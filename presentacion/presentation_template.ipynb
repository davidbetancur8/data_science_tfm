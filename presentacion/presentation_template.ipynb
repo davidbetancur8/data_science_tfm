{
 "cells": [
  {
   "cell_type": "code",
   "execution_count": 1,
   "metadata": {
    "slideshow": {
     "slide_type": "skip"
    }
   },
   "outputs": [
    {
     "data": {
      "text/html": [
       "        <script type=\"text/javascript\">\n",
       "        window.PlotlyConfig = {MathJaxConfig: 'local'};\n",
       "        if (window.MathJax) {MathJax.Hub.Config({SVG: {font: \"STIX-Web\"}});}\n",
       "        if (typeof require !== 'undefined') {\n",
       "        require.undef(\"plotly\");\n",
       "        requirejs.config({\n",
       "            paths: {\n",
       "                'plotly': ['https://cdn.plot.ly/plotly-latest.min']\n",
       "            }\n",
       "        });\n",
       "        require(['plotly'], function(Plotly) {\n",
       "            window._Plotly = Plotly;\n",
       "        });\n",
       "        }\n",
       "        </script>\n",
       "        "
      ]
     },
     "metadata": {},
     "output_type": "display_data"
    }
   ],
   "source": [
    "# Add all necessary imports here\n",
    "import matplotlib.pyplot as plt\n",
    "%matplotlib inline\n",
    "plt.style.reload_library()\n",
    "plt.style.use(\"ggplot\")\n",
    "\n",
    "from IPython.display import Image\n",
    "# Image(filename='img/IIC_logoP.png', width=400)\n",
    "\n",
    "import plotly.plotly as py\n",
    "import plotly.graph_objs as go\n",
    "from plotly.offline import download_plotlyjs, init_notebook_mode, plot, iplot\n",
    "init_notebook_mode(connected=True)\n",
    "\n",
    "import numpy as np"
   ]
  },
  {
   "cell_type": "markdown",
   "metadata": {
    "slideshow": {
     "slide_type": "skip"
    }
   },
   "source": [
    "### Cover Slide 1"
   ]
  },
  {
   "cell_type": "raw",
   "metadata": {
    "slideshow": {
     "slide_type": "slide"
    }
   },
   "source": [
    "<image>\n",
    "<section data-background=\"img/cover.jpg\" data-state=\"img-transparent no-title-footer\" align=\"right\">\n",
    "<div class=\"intro-body\">\n",
    "<div class=\"intro_h1\"><h1>Extracción de información en textos usando modelos de lenguaje\n",
    "pre-entrenados.</h1></div>\n",
    "<h3>David Betancur Sánchez</h3>\n",
    "<p><strong><span class=\"a\">MDS AFI</span></strong> <span class=\"b\"></span> </p>\n",
    "<p><strong><span class=\"a\"></span>-</strong> <span class=\"b\"></span> </p>\n",
    "<p>&nbsp;</p>\n",
    "<p>&nbsp;</p>\n",
    "</div>\n",
    "</section>\n",
    "</image>"
   ]
  },
  {
   "cell_type": "markdown",
   "metadata": {
    "slideshow": {
     "slide_type": "slide"
    }
   },
   "source": [
    "# Introducción"
   ]
  },
  {
   "cell_type": "markdown",
   "metadata": {
    "slideshow": {
     "slide_type": "subslide"
    }
   },
   "source": [
    "![IIC](img/IIC_logoP.png)"
   ]
  },
  {
   "cell_type": "markdown",
   "metadata": {
    "slideshow": {
     "slide_type": "subslide"
    }
   },
   "source": [
    "# Modelos de lenguaje"
   ]
  },
  {
   "cell_type": "markdown",
   "metadata": {
    "slideshow": {
     "slide_type": "-"
    }
   },
   "source": [
    "![IIC](img/word_embs.png)"
   ]
  },
  {
   "cell_type": "markdown",
   "metadata": {
    "slideshow": {
     "slide_type": "subslide"
    }
   },
   "source": [
    "# NER"
   ]
  },
  {
   "cell_type": "markdown",
   "metadata": {
    "slideshow": {
     "slide_type": "-"
    }
   },
   "source": [
    "![IIC](img/ner.jpg)"
   ]
  },
  {
   "cell_type": "markdown",
   "metadata": {
    "slideshow": {
     "slide_type": "subslide"
    }
   },
   "source": [
    "# ¿Contexto?"
   ]
  },
  {
   "cell_type": "markdown",
   "metadata": {
    "slideshow": {
     "slide_type": "-"
    }
   },
   "source": [
    "<img src='img/predict_gone_wrong.jpg' width=\"50%\">"
   ]
  },
  {
   "cell_type": "markdown",
   "metadata": {
    "slideshow": {
     "slide_type": "subslide"
    }
   },
   "source": [
    "# BERT"
   ]
  },
  {
   "cell_type": "markdown",
   "metadata": {
    "slideshow": {
     "slide_type": "-"
    }
   },
   "source": [
    "![BERT](img/bert.png)"
   ]
  },
  {
   "cell_type": "markdown",
   "metadata": {
    "slideshow": {
     "slide_type": "subslide"
    }
   },
   "source": [
    "# Transformer"
   ]
  },
  {
   "cell_type": "markdown",
   "metadata": {
    "slideshow": {
     "slide_type": "-"
    }
   },
   "source": [
    "![BERT](img/metodologia/Transformer.gif)"
   ]
  },
  {
   "cell_type": "markdown",
   "metadata": {
    "slideshow": {
     "slide_type": "subslide"
    }
   },
   "source": [
    "# Glove vs BERT"
   ]
  },
  {
   "cell_type": "markdown",
   "metadata": {
    "slideshow": {
     "slide_type": "-"
    }
   },
   "source": [
    "Lionel Andrés Messi Cuccittini (Rosario, 24 de junio de 1987), conocido como Leo Messi, es un futbolista argentino que juega como delantero o centrocampista. Ha desarrollado toda su carrera en el F. C. Barcelona de la Primera División de España y en la selección argentina, de la que es capitán. Cristiano Ronaldo dos Santos Aveiro, (Funchal, Madeira, 5 de febrero de 1985), más conocido como Cristiano Ronaldo, es un futbolista portugués que juega como delantero en la Juventus de Turín de la Serie A de Italia y en la selección de Portugal, de la que es capitán."
   ]
  },
  {
   "cell_type": "code",
   "execution_count": 2,
   "metadata": {
    "slideshow": {
     "slide_type": "skip"
    }
   },
   "outputs": [],
   "source": [
    "# import numpy as np\n",
    "\n",
    "reduced = np.load(\"embs/bert_pca.npy\")\n",
    "colores = np.load(\"embs/bert_colores.npy\")\n",
    "textos = np.load(\"embs/bert_textos.npy\")\n",
    "x, y, z = reduced.T\n",
    "\n",
    "trace1 = go.Scatter3d(\n",
    "    x=x,\n",
    "    y=y,\n",
    "    z=z,\n",
    "    mode='markers',\n",
    "    hoverinfo = 'text',\n",
    "    hoverlabel=dict(bgcolor=colores),\n",
    "    hovertext = textos,\n",
    "    marker=dict(\n",
    "        color=colores,\n",
    "        size=3,\n",
    "        opacity=0.8\n",
    "    )\n",
    ")\n",
    "\n",
    "\n",
    "data = [trace1]\n",
    "layout = go.Layout(\n",
    "    title=go.layout.Title(\n",
    "        text='Embeddings con BERT',\n",
    "        y=1,\n",
    "        x=0\n",
    "    ),\n",
    "    width=720,\n",
    "    height=480,\n",
    "    margin=dict(\n",
    "        l=0,\n",
    "        r=0,\n",
    "        b=0,\n",
    "        t=0\n",
    "    )\n",
    ")\n",
    "fig = go.Figure(data=data, layout=layout)"
   ]
  },
  {
   "cell_type": "code",
   "execution_count": 3,
   "metadata": {
    "slideshow": {
     "slide_type": "subslide"
    }
   },
   "outputs": [
    {
     "data": {
      "application/vnd.plotly.v1+json": {
       "config": {
        "linkText": "Export to plot.ly",
        "plotlyServerURL": "https://plot.ly",
        "showLink": false
       },
       "data": [
        {
         "hoverinfo": "text",
         "hoverlabel": {
          "bgcolor": [
           "rgb(18, 215, 199)",
           "rgb(203, 88, 138)",
           "rgb(185, 48, 223)",
           "rgb(10, 195, 101)",
           "rgb(172, 240, 63)",
           "rgb(47, 182, 124)",
           "rgb(77, 103, 128)",
           "rgb(248, 39, 166)",
           "rgb(77, 103, 128)",
           "rgb(4, 249, 141)",
           "rgb(47, 94, 52)",
           "rgb(5, 133, 249)",
           "rgb(112, 16, 148)",
           "rgb(78, 216, 51)",
           "rgb(113, 150, 151)",
           "rgb(11, 245, 50)",
           "rgb(134, 198, 31)",
           "rgb(198, 126, 223)",
           "rgb(188, 1, 59)",
           "rgb(93, 203, 250)",
           "rgb(5, 133, 249)",
           "rgb(12, 36, 141)",
           "rgb(255, 5, 107)",
           "rgb(44, 98, 56)",
           "rgb(199, 177, 183)",
           "rgb(196, 39, 160)",
           "rgb(33, 160, 206)",
           "rgb(208, 31, 51)",
           "rgb(244, 58, 221)",
           "rgb(52, 130, 241)",
           "rgb(186, 71, 126)",
           "rgb(135, 191, 96)",
           "rgb(104, 185, 154)",
           "rgb(162, 156, 99)",
           "rgb(77, 103, 128)",
           "rgb(109, 23, 182)",
           "rgb(189, 147, 108)",
           "rgb(45, 144, 89)",
           "rgb(77, 103, 128)",
           "rgb(64, 88, 176)",
           "rgb(0, 92, 224)",
           "rgb(52, 130, 241)",
           "rgb(109, 23, 182)",
           "rgb(106, 171, 50)",
           "rgb(8, 2, 177)",
           "rgb(77, 103, 128)",
           "rgb(109, 23, 182)",
           "rgb(188, 1, 59)",
           "rgb(113, 150, 151)",
           "rgb(232, 212, 141)",
           "rgb(142, 52, 250)",
           "rgb(59, 87, 90)",
           "rgb(56, 221, 178)",
           "rgb(39, 151, 246)",
           "rgb(106, 49, 249)",
           "rgb(179, 209, 101)",
           "rgb(56, 250, 198)",
           "rgb(15, 253, 104)",
           "rgb(77, 103, 128)",
           "rgb(193, 49, 17)",
           "rgb(77, 103, 128)",
           "rgb(199, 228, 130)",
           "rgb(29, 100, 255)",
           "rgb(47, 94, 52)",
           "rgb(5, 133, 249)",
           "rgb(142, 52, 250)",
           "rgb(86, 226, 210)",
           "rgb(113, 150, 151)",
           "rgb(11, 245, 50)",
           "rgb(134, 198, 31)",
           "rgb(98, 175, 60)",
           "rgb(188, 1, 59)",
           "rgb(93, 203, 250)",
           "rgb(5, 133, 249)",
           "rgb(12, 36, 141)",
           "rgb(52, 130, 241)",
           "rgb(109, 23, 182)",
           "rgb(66, 215, 20)",
           "rgb(77, 103, 128)",
           "rgb(138, 106, 164)",
           "rgb(77, 103, 128)",
           "rgb(109, 23, 182)",
           "rgb(25, 170, 70)",
           "rgb(188, 245, 28)",
           "rgb(77, 103, 128)",
           "rgb(46, 177, 58)",
           "rgb(0, 92, 224)",
           "rgb(52, 130, 241)",
           "rgb(109, 23, 182)",
           "rgb(106, 171, 50)",
           "rgb(77, 103, 128)",
           "rgb(118, 178, 241)",
           "rgb(77, 103, 128)",
           "rgb(109, 23, 182)",
           "rgb(188, 1, 59)",
           "rgb(113, 150, 151)",
           "rgb(232, 212, 141)"
          ]
         },
         "hovertext": [
          " <b style=\"font-size: 20px\"> Lionel </b> Andrés Messi Cuccittini (Rosario, 24",
          " la que es capitán. Lionel <b style=\"font-size: 20px\"> Andrés </b> Messi Cuccittini (Rosario, 24 de",
          " que es capitán. Lionel Andrés <b style=\"font-size: 20px\"> Messi </b> Cuccittini (Rosario, 24 de junio",
          " es capitán. Lionel Andrés Messi <b style=\"font-size: 20px\"> Cuccittini </b> (Rosario, 24 de junio de",
          " capitán. Lionel Andrés Messi Cuccittini <b style=\"font-size: 20px\"> (Rosario, </b> 24 de junio de 1987),",
          " Lionel Andrés Messi Cuccittini (Rosario, <b style=\"font-size: 20px\"> 24 </b> de junio de 1987), conocido",
          " Andrés Messi Cuccittini (Rosario, 24 <b style=\"font-size: 20px\"> de </b> junio de 1987), conocido como",
          " Messi Cuccittini (Rosario, 24 de <b style=\"font-size: 20px\"> junio </b> de 1987), conocido como Leo",
          " Cuccittini (Rosario, 24 de junio <b style=\"font-size: 20px\"> de </b> 1987), conocido como Leo Messi,",
          " (Rosario, 24 de junio de <b style=\"font-size: 20px\"> 1987), </b> conocido como Leo Messi, es",
          " 24 de junio de 1987), <b style=\"font-size: 20px\"> conocido </b> como Leo Messi, es un",
          " de junio de 1987), conocido <b style=\"font-size: 20px\"> como </b> Leo Messi, es un futbolista",
          " junio de 1987), conocido como <b style=\"font-size: 20px\"> Leo </b> Messi, es un futbolista argentino",
          " de 1987), conocido como Leo <b style=\"font-size: 20px\"> Messi, </b> es un futbolista argentino que",
          " 1987), conocido como Leo Messi, <b style=\"font-size: 20px\"> es </b> un futbolista argentino que juega",
          " conocido como Leo Messi, es <b style=\"font-size: 20px\"> un </b> futbolista argentino que juega como",
          " como Leo Messi, es un <b style=\"font-size: 20px\"> futbolista </b> argentino que juega como delantero",
          " Leo Messi, es un futbolista <b style=\"font-size: 20px\"> argentino </b> que juega como delantero o",
          " Messi, es un futbolista argentino <b style=\"font-size: 20px\"> que </b> juega como delantero o centrocampista.",
          " es un futbolista argentino que <b style=\"font-size: 20px\"> juega </b> como delantero o centrocampista. Ha",
          " un futbolista argentino que juega <b style=\"font-size: 20px\"> como </b> delantero o centrocampista. Ha desarrollado",
          " futbolista argentino que juega como <b style=\"font-size: 20px\"> delantero </b> o centrocampista. Ha desarrollado toda",
          " argentino que juega como delantero <b style=\"font-size: 20px\"> o </b> centrocampista. Ha desarrollado toda su",
          " que juega como delantero o <b style=\"font-size: 20px\"> centrocampista. </b> Ha desarrollado toda su carrera",
          " juega como delantero o centrocampista. <b style=\"font-size: 20px\"> Ha </b> desarrollado toda su carrera en",
          " como delantero o centrocampista. Ha <b style=\"font-size: 20px\"> desarrollado </b> toda su carrera en el",
          " delantero o centrocampista. Ha desarrollado <b style=\"font-size: 20px\"> toda </b> su carrera en el F.",
          " o centrocampista. Ha desarrollado toda <b style=\"font-size: 20px\"> su </b> carrera en el F. C.",
          " centrocampista. Ha desarrollado toda su <b style=\"font-size: 20px\"> carrera </b> en el F. C. Barcelona",
          " Ha desarrollado toda su carrera <b style=\"font-size: 20px\"> en </b> el F. C. Barcelona de",
          " desarrollado toda su carrera en <b style=\"font-size: 20px\"> el </b> F. C. Barcelona de la",
          " toda su carrera en el <b style=\"font-size: 20px\"> F. </b> C. Barcelona de la Primera",
          " su carrera en el F. <b style=\"font-size: 20px\"> C. </b> Barcelona de la Primera División",
          " carrera en el F. C. <b style=\"font-size: 20px\"> Barcelona </b> de la Primera División de",
          " en el F. C. Barcelona <b style=\"font-size: 20px\"> de </b> la Primera División de España",
          " el F. C. Barcelona de <b style=\"font-size: 20px\"> la </b> Primera División de España y",
          " F. C. Barcelona de la <b style=\"font-size: 20px\"> Primera </b> División de España y en",
          " C. Barcelona de la Primera <b style=\"font-size: 20px\"> División </b> de España y en la",
          " Barcelona de la Primera División <b style=\"font-size: 20px\"> de </b> España y en la selección",
          " de la Primera División de <b style=\"font-size: 20px\"> España </b> y en la selección argentina,",
          " la Primera División de España <b style=\"font-size: 20px\"> y </b> en la selección argentina, de",
          " Primera División de España y <b style=\"font-size: 20px\"> en </b> la selección argentina, de la",
          " División de España y en <b style=\"font-size: 20px\"> la </b> selección argentina, de la que",
          " de España y en la <b style=\"font-size: 20px\"> selección </b> argentina, de la que es",
          " España y en la selección <b style=\"font-size: 20px\"> argentina, </b> de la que es capitán.",
          " y en la selección argentina, <b style=\"font-size: 20px\"> de </b> la que es capitán. Cristiano",
          " en la selección argentina, de <b style=\"font-size: 20px\"> la </b> que es capitán. Cristiano Ronaldo",
          " la selección argentina, de la <b style=\"font-size: 20px\"> que </b> es capitán. Cristiano Ronaldo dos",
          " selección argentina, de la que <b style=\"font-size: 20px\"> es </b> capitán. Cristiano Ronaldo dos Santos",
          " argentina, de la que es <b style=\"font-size: 20px\"> capitán. </b> Cristiano Ronaldo dos Santos Aveiro,",
          " de la que es capitán. <b style=\"font-size: 20px\"> Cristiano </b> Ronaldo dos Santos Aveiro, (Funchal,",
          " la que es capitán. Cristiano <b style=\"font-size: 20px\"> Ronaldo </b> dos Santos Aveiro, (Funchal, Madeira,",
          " que es capitán. Cristiano Ronaldo <b style=\"font-size: 20px\"> dos </b> Santos Aveiro, (Funchal, Madeira, 5",
          " es capitán. Cristiano Ronaldo dos <b style=\"font-size: 20px\"> Santos </b> Aveiro, (Funchal, Madeira, 5 de",
          " capitán. Cristiano Ronaldo dos Santos <b style=\"font-size: 20px\"> Aveiro, </b> (Funchal, Madeira, 5 de febrero",
          " Cristiano Ronaldo dos Santos Aveiro, <b style=\"font-size: 20px\"> (Funchal, </b> Madeira, 5 de febrero de",
          " Ronaldo dos Santos Aveiro, (Funchal, <b style=\"font-size: 20px\"> Madeira, </b> 5 de febrero de 1985),",
          " dos Santos Aveiro, (Funchal, Madeira, <b style=\"font-size: 20px\"> 5 </b> de febrero de 1985), más",
          " Santos Aveiro, (Funchal, Madeira, 5 <b style=\"font-size: 20px\"> de </b> febrero de 1985), más conocido",
          " Aveiro, (Funchal, Madeira, 5 de <b style=\"font-size: 20px\"> febrero </b> de 1985), más conocido como",
          " (Funchal, Madeira, 5 de febrero <b style=\"font-size: 20px\"> de </b> 1985), más conocido como Cristiano",
          " Madeira, 5 de febrero de <b style=\"font-size: 20px\"> 1985), </b> más conocido como Cristiano Ronaldo,",
          " 5 de febrero de 1985), <b style=\"font-size: 20px\"> más </b> conocido como Cristiano Ronaldo, es",
          " de febrero de 1985), más <b style=\"font-size: 20px\"> conocido </b> como Cristiano Ronaldo, es un",
          " febrero de 1985), más conocido <b style=\"font-size: 20px\"> como </b> Cristiano Ronaldo, es un futbolista",
          " de 1985), más conocido como <b style=\"font-size: 20px\"> Cristiano </b> Ronaldo, es un futbolista portugués",
          " 1985), más conocido como Cristiano <b style=\"font-size: 20px\"> Ronaldo, </b> es un futbolista portugués que",
          " más conocido como Cristiano Ronaldo, <b style=\"font-size: 20px\"> es </b> un futbolista portugués que juega",
          " conocido como Cristiano Ronaldo, es <b style=\"font-size: 20px\"> un </b> futbolista portugués que juega como",
          " como Cristiano Ronaldo, es un <b style=\"font-size: 20px\"> futbolista </b> portugués que juega como delantero",
          " Cristiano Ronaldo, es un futbolista <b style=\"font-size: 20px\"> portugués </b> que juega como delantero en",
          " Ronaldo, es un futbolista portugués <b style=\"font-size: 20px\"> que </b> juega como delantero en la",
          " es un futbolista portugués que <b style=\"font-size: 20px\"> juega </b> como delantero en la Juventus",
          " un futbolista portugués que juega <b style=\"font-size: 20px\"> como </b> delantero en la Juventus de",
          " futbolista portugués que juega como <b style=\"font-size: 20px\"> delantero </b> en la Juventus de Turín",
          " portugués que juega como delantero <b style=\"font-size: 20px\"> en </b> la Juventus de Turín de",
          " que juega como delantero en <b style=\"font-size: 20px\"> la </b> Juventus de Turín de la",
          " juega como delantero en la <b style=\"font-size: 20px\"> Juventus </b> de Turín de la Serie",
          " como delantero en la Juventus <b style=\"font-size: 20px\"> de </b> Turín de la Serie A",
          " delantero en la Juventus de <b style=\"font-size: 20px\"> Turín </b> de la Serie A de",
          " en la Juventus de Turín <b style=\"font-size: 20px\"> de </b> la Serie A de Italia",
          " la Juventus de Turín de <b style=\"font-size: 20px\"> la </b> Serie A de Italia y",
          " Juventus de Turín de la <b style=\"font-size: 20px\"> Serie </b> A de Italia y en",
          " de Turín de la Serie <b style=\"font-size: 20px\"> A </b> de Italia y en la",
          " Turín de la Serie A <b style=\"font-size: 20px\"> de </b> Italia y en la selección",
          " de la Serie A de <b style=\"font-size: 20px\"> Italia </b> y en la selección de",
          " la Serie A de Italia <b style=\"font-size: 20px\"> y </b> en la selección de Portugal,",
          " Serie A de Italia y <b style=\"font-size: 20px\"> en </b> la selección de Portugal, de",
          " A de Italia y en <b style=\"font-size: 20px\"> la </b> selección de Portugal, de la",
          " de Italia y en la <b style=\"font-size: 20px\"> selección </b> de Portugal, de la que",
          " Italia y en la selección <b style=\"font-size: 20px\"> de </b> Portugal, de la que es",
          " y en la selección de <b style=\"font-size: 20px\"> Portugal, </b> de la que es capitán.",
          " en la selección de Portugal, <b style=\"font-size: 20px\"> de </b>",
          " la selección de Portugal, de <b style=\"font-size: 20px\"> la </b>",
          " selección de Portugal, de la <b style=\"font-size: 20px\"> que </b>",
          " de Portugal, de la que <b style=\"font-size: 20px\"> es </b>",
          " Portugal, de la que es <b style=\"font-size: 20px\"> capitán. </b>"
         ],
         "marker": {
          "color": [
           "rgb(18, 215, 199)",
           "rgb(203, 88, 138)",
           "rgb(185, 48, 223)",
           "rgb(10, 195, 101)",
           "rgb(172, 240, 63)",
           "rgb(47, 182, 124)",
           "rgb(77, 103, 128)",
           "rgb(248, 39, 166)",
           "rgb(77, 103, 128)",
           "rgb(4, 249, 141)",
           "rgb(47, 94, 52)",
           "rgb(5, 133, 249)",
           "rgb(112, 16, 148)",
           "rgb(78, 216, 51)",
           "rgb(113, 150, 151)",
           "rgb(11, 245, 50)",
           "rgb(134, 198, 31)",
           "rgb(198, 126, 223)",
           "rgb(188, 1, 59)",
           "rgb(93, 203, 250)",
           "rgb(5, 133, 249)",
           "rgb(12, 36, 141)",
           "rgb(255, 5, 107)",
           "rgb(44, 98, 56)",
           "rgb(199, 177, 183)",
           "rgb(196, 39, 160)",
           "rgb(33, 160, 206)",
           "rgb(208, 31, 51)",
           "rgb(244, 58, 221)",
           "rgb(52, 130, 241)",
           "rgb(186, 71, 126)",
           "rgb(135, 191, 96)",
           "rgb(104, 185, 154)",
           "rgb(162, 156, 99)",
           "rgb(77, 103, 128)",
           "rgb(109, 23, 182)",
           "rgb(189, 147, 108)",
           "rgb(45, 144, 89)",
           "rgb(77, 103, 128)",
           "rgb(64, 88, 176)",
           "rgb(0, 92, 224)",
           "rgb(52, 130, 241)",
           "rgb(109, 23, 182)",
           "rgb(106, 171, 50)",
           "rgb(8, 2, 177)",
           "rgb(77, 103, 128)",
           "rgb(109, 23, 182)",
           "rgb(188, 1, 59)",
           "rgb(113, 150, 151)",
           "rgb(232, 212, 141)",
           "rgb(142, 52, 250)",
           "rgb(59, 87, 90)",
           "rgb(56, 221, 178)",
           "rgb(39, 151, 246)",
           "rgb(106, 49, 249)",
           "rgb(179, 209, 101)",
           "rgb(56, 250, 198)",
           "rgb(15, 253, 104)",
           "rgb(77, 103, 128)",
           "rgb(193, 49, 17)",
           "rgb(77, 103, 128)",
           "rgb(199, 228, 130)",
           "rgb(29, 100, 255)",
           "rgb(47, 94, 52)",
           "rgb(5, 133, 249)",
           "rgb(142, 52, 250)",
           "rgb(86, 226, 210)",
           "rgb(113, 150, 151)",
           "rgb(11, 245, 50)",
           "rgb(134, 198, 31)",
           "rgb(98, 175, 60)",
           "rgb(188, 1, 59)",
           "rgb(93, 203, 250)",
           "rgb(5, 133, 249)",
           "rgb(12, 36, 141)",
           "rgb(52, 130, 241)",
           "rgb(109, 23, 182)",
           "rgb(66, 215, 20)",
           "rgb(77, 103, 128)",
           "rgb(138, 106, 164)",
           "rgb(77, 103, 128)",
           "rgb(109, 23, 182)",
           "rgb(25, 170, 70)",
           "rgb(188, 245, 28)",
           "rgb(77, 103, 128)",
           "rgb(46, 177, 58)",
           "rgb(0, 92, 224)",
           "rgb(52, 130, 241)",
           "rgb(109, 23, 182)",
           "rgb(106, 171, 50)",
           "rgb(77, 103, 128)",
           "rgb(118, 178, 241)",
           "rgb(77, 103, 128)",
           "rgb(109, 23, 182)",
           "rgb(188, 1, 59)",
           "rgb(113, 150, 151)",
           "rgb(232, 212, 141)"
          ],
          "opacity": 0.8,
          "size": 3
         },
         "mode": "markers",
         "type": "scatter3d",
         "uid": "08f10b3b-2df1-4d71-a58a-f505b388b259",
         "x": [
          18.450995694395296,
          13.110200220177473,
          19.47087701208008,
          11.299893720862046,
          0.7974903092139634,
          6.707301428042531,
          -14.556716052314691,
          2.4648849007724745,
          -13.614510126199708,
          9.299112398727395,
          1.4132498590393698,
          -7.594246410349049,
          14.61709810004706,
          18.1647496154135,
          -5.806090045897618,
          -7.669866416849081,
          7.214512954783824,
          9.979794459863296,
          -10.636014468866248,
          0.05283657743295523,
          -8.657515529352445,
          9.274756753880041,
          -5.077055669505475,
          10.505605867099275,
          -0.6777088444927373,
          1.338502675312301,
          1.405239322670634,
          -11.162423510990394,
          0.8889631632076063,
          -10.688463136948158,
          -12.932400041382504,
          7.632209056084233,
          7.393702863062598,
          12.011743625231349,
          -15.827978618949917,
          -18.23681190904089,
          4.871158539407244,
          4.070782032611551,
          -16.708629141527805,
          9.11842752556564,
          -10.045066243750993,
          -13.401029952611765,
          -17.229425078079977,
          2.311577299871292,
          10.189030533970392,
          -14.906604821650149,
          -15.704822749919208,
          -13.536228585657076,
          -6.995993408984508,
          6.466703511453387,
          20.06938791944899,
          20.92842735466216,
          16.44198486376979,
          17.623165547404714,
          16.586006958869756,
          1.9884226887002976,
          15.740096941946526,
          6.836951352181623,
          -13.656815221129161,
          2.581392198979325,
          -13.26817079649356,
          10.21193053807035,
          0.6635906089861077,
          2.119694601633566,
          -6.191523993579383,
          19.6906971101507,
          20.660631955932583,
          -3.656280129661886,
          -6.6381915143314,
          7.230052023962212,
          15.439359711531004,
          -8.755186022797767,
          0.2538065156118099,
          -7.557530057156273,
          8.282783196508129,
          -11.45603851464362,
          -13.444129220726383,
          15.426038608643493,
          -10.829430440463458,
          12.472707441287028,
          -16.041694873657523,
          -18.249078745125864,
          8.613351621771596,
          6.948637728109961,
          -16.34733480656652,
          12.117658259000851,
          -9.535971907497213,
          -14.003229828385445,
          -16.897472139100547,
          2.5012856688895764,
          -12.366177799048929,
          12.609723751364916,
          -14.169932782226745,
          -15.538659577737786,
          -13.45605152829433,
          -6.288859547475033,
          5.454175021723359
         ],
         "y": [
          -4.380552863694497,
          -3.8915955931362287,
          -4.453411100738538,
          -6.753406803937715,
          -15.60541588967481,
          -14.358266834179785,
          -14.889039149674236,
          -12.071693501607529,
          -14.138326997241428,
          -15.619954362084615,
          -15.113126861403096,
          -14.776930468673305,
          -5.651808945441392,
          -2.7601829342939483,
          -11.083176099606527,
          -9.59711996393958,
          6.838331170122406,
          3.3225674132919463,
          -8.49198498644529,
          -0.7548559691342183,
          -3.9868175267218398,
          9.996897522238964,
          -5.310157974459056,
          8.644707249944998,
          -2.9235233792550708,
          0.24501508668464586,
          2.1785652577489034,
          -0.9205607672270275,
          6.460050087401931,
          7.075529701696947,
          5.51408445634772,
          13.544797389916301,
          13.805815740905325,
          11.885441968226898,
          7.703769870122537,
          4.37316240630096,
          17.068683252951043,
          17.30553761724286,
          5.3695230341342555,
          10.11663486785879,
          -0.010541841508636574,
          8.283159455466183,
          6.66985925782619,
          17.913268214137684,
          11.302606662719644,
          4.761861888702833,
          7.422372989811839,
          1.4837660459802344,
          -5.496971449711511,
          4.519618190068173,
          -5.342700699588208,
          -2.45858435701654,
          -6.4543810249892966,
          -5.240525523761149,
          -4.796682938931705,
          -15.57217448764401,
          -1.3277793584632696,
          -15.31106602732749,
          -15.271118412339789,
          -12.954881548083227,
          -14.54215984213626,
          -16.46700770667441,
          -15.049386661896463,
          -14.186084953671333,
          -14.855223874679218,
          -4.433168678648899,
          -2.185892091386721,
          -11.678238584713688,
          -10.732188713118632,
          5.650290094564924,
          -0.19998321706303407,
          -8.414162041699777,
          0.6423667718367054,
          -3.2190099571372874,
          9.793798167250802,
          5.970017486021367,
          6.274415559390319,
          14.055457067738288,
          2.340433743015076,
          7.86562547644642,
          6.049223685954622,
          3.9239617705572236,
          14.703932285873186,
          16.228111225559505,
          4.756941780415918,
          10.457393123826396,
          -0.034571138407386987,
          7.818752982579198,
          8.6601494063468,
          18.751504188471706,
          8.411744026173253,
          7.330923021277931,
          6.438124167790262,
          8.898474494631305,
          2.661477800858568,
          -4.006934974088235,
          6.28458395282586
         ],
         "z": [
          -2.7226668190965815,
          -4.747764770596258,
          -1.0932589860449111,
          -7.202707691573734,
          -1.619138192511629,
          -12.874607823779293,
          -12.397427888314935,
          -14.827366483035654,
          -12.297046227121857,
          -5.908961036955523,
          10.943748228674638,
          7.814554724378772,
          1.0060483697982259,
          1.7036926230875984,
          11.009542608813012,
          8.999736732634535,
          11.318016674864193,
          -1.1050071318668062,
          8.120923736237295,
          20.033375549200905,
          15.949550526738795,
          14.990989910404846,
          6.2397802896536305,
          12.807966642626589,
          9.75095408452237,
          9.173879500865496,
          4.311359586571736,
          6.109700317358065,
          11.515355688905714,
          8.833379368036123,
          3.0823005188540846,
          -2.96825484433359,
          -3.470850282687855,
          -2.856232903988529,
          -6.385366775401926,
          -6.280009922872037,
          0.40605370529696283,
          -3.618955091791445,
          -11.50292795032599,
          -5.765540562202989,
          2.898343383379933,
          5.421627607679386,
          -3.3617689874113315,
          -3.1604595940933304,
          -5.953328915843872,
          -12.313722355636223,
          -10.18761174556904,
          -6.140573731018955,
          10.581138093375248,
          8.006526802775596,
          -1.0657941881003103,
          -1.6376423576172017,
          -11.970854828922754,
          -7.290503297565739,
          -8.137059533178096,
          -2.0218895408447017,
          -9.757661768792726,
          -14.986857114312302,
          -13.179325552476694,
          -14.88949770394427,
          -13.717380921529609,
          -8.456221813224541,
          8.445952472287244,
          11.49533841993739,
          7.359872203068507,
          3.1541637728682956,
          1.0812636320943647,
          11.750323347379522,
          8.51521290336622,
          11.895728647650037,
          -3.004505881999488,
          10.100279835864535,
          20.10713423810273,
          16.92161703740947,
          16.288693457392764,
          9.078786967259061,
          0.29593622451552737,
          -4.296757146191646,
          -7.690053624155511,
          -8.318548101307913,
          -5.895858743601925,
          -5.974062765870881,
          -2.6531190886702363,
          -3.660142524537452,
          -10.892247357988802,
          -8.131545242779552,
          4.0376497312665025,
          7.2781671181192396,
          -1.6538506160554678,
          -2.8502879301172213,
          -9.728432178665049,
          -6.882610807710035,
          -12.427760142459071,
          -9.281576542310848,
          -5.250177292726699,
          10.091566352439887,
          7.537549685975996
         ]
        }
       ],
       "layout": {
        "height": 480,
        "margin": {
         "b": 0,
         "l": 0,
         "r": 0,
         "t": 0
        },
        "title": {
         "text": "Embeddings con BERT",
         "x": 0,
         "y": 1
        },
        "width": 720
       }
      },
      "text/html": [
       "<div>\n",
       "        \n",
       "        \n",
       "            <div id=\"d1d04c3c-0ca6-4113-97dd-f5fca07eceed\" class=\"plotly-graph-div\" style=\"height:480px; width:720px;\"></div>\n",
       "            <script type=\"text/javascript\">\n",
       "                require([\"plotly\"], function(Plotly) {\n",
       "                    window.PLOTLYENV=window.PLOTLYENV || {};\n",
       "                    window.PLOTLYENV.BASE_URL='https://plot.ly';\n",
       "                    \n",
       "                if (document.getElementById(\"d1d04c3c-0ca6-4113-97dd-f5fca07eceed\")) {\n",
       "                    Plotly.newPlot(\n",
       "                        'd1d04c3c-0ca6-4113-97dd-f5fca07eceed',\n",
       "                        [{\"hoverinfo\": \"text\", \"hoverlabel\": {\"bgcolor\": [\"rgb(18, 215, 199)\", \"rgb(203, 88, 138)\", \"rgb(185, 48, 223)\", \"rgb(10, 195, 101)\", \"rgb(172, 240, 63)\", \"rgb(47, 182, 124)\", \"rgb(77, 103, 128)\", \"rgb(248, 39, 166)\", \"rgb(77, 103, 128)\", \"rgb(4, 249, 141)\", \"rgb(47, 94, 52)\", \"rgb(5, 133, 249)\", \"rgb(112, 16, 148)\", \"rgb(78, 216, 51)\", \"rgb(113, 150, 151)\", \"rgb(11, 245, 50)\", \"rgb(134, 198, 31)\", \"rgb(198, 126, 223)\", \"rgb(188, 1, 59)\", \"rgb(93, 203, 250)\", \"rgb(5, 133, 249)\", \"rgb(12, 36, 141)\", \"rgb(255, 5, 107)\", \"rgb(44, 98, 56)\", \"rgb(199, 177, 183)\", \"rgb(196, 39, 160)\", \"rgb(33, 160, 206)\", \"rgb(208, 31, 51)\", \"rgb(244, 58, 221)\", \"rgb(52, 130, 241)\", \"rgb(186, 71, 126)\", \"rgb(135, 191, 96)\", \"rgb(104, 185, 154)\", \"rgb(162, 156, 99)\", \"rgb(77, 103, 128)\", \"rgb(109, 23, 182)\", \"rgb(189, 147, 108)\", \"rgb(45, 144, 89)\", \"rgb(77, 103, 128)\", \"rgb(64, 88, 176)\", \"rgb(0, 92, 224)\", \"rgb(52, 130, 241)\", \"rgb(109, 23, 182)\", \"rgb(106, 171, 50)\", \"rgb(8, 2, 177)\", \"rgb(77, 103, 128)\", \"rgb(109, 23, 182)\", \"rgb(188, 1, 59)\", \"rgb(113, 150, 151)\", \"rgb(232, 212, 141)\", \"rgb(142, 52, 250)\", \"rgb(59, 87, 90)\", \"rgb(56, 221, 178)\", \"rgb(39, 151, 246)\", \"rgb(106, 49, 249)\", \"rgb(179, 209, 101)\", \"rgb(56, 250, 198)\", \"rgb(15, 253, 104)\", \"rgb(77, 103, 128)\", \"rgb(193, 49, 17)\", \"rgb(77, 103, 128)\", \"rgb(199, 228, 130)\", \"rgb(29, 100, 255)\", \"rgb(47, 94, 52)\", \"rgb(5, 133, 249)\", \"rgb(142, 52, 250)\", \"rgb(86, 226, 210)\", \"rgb(113, 150, 151)\", \"rgb(11, 245, 50)\", \"rgb(134, 198, 31)\", \"rgb(98, 175, 60)\", \"rgb(188, 1, 59)\", \"rgb(93, 203, 250)\", \"rgb(5, 133, 249)\", \"rgb(12, 36, 141)\", \"rgb(52, 130, 241)\", \"rgb(109, 23, 182)\", \"rgb(66, 215, 20)\", \"rgb(77, 103, 128)\", \"rgb(138, 106, 164)\", \"rgb(77, 103, 128)\", \"rgb(109, 23, 182)\", \"rgb(25, 170, 70)\", \"rgb(188, 245, 28)\", \"rgb(77, 103, 128)\", \"rgb(46, 177, 58)\", \"rgb(0, 92, 224)\", \"rgb(52, 130, 241)\", \"rgb(109, 23, 182)\", \"rgb(106, 171, 50)\", \"rgb(77, 103, 128)\", \"rgb(118, 178, 241)\", \"rgb(77, 103, 128)\", \"rgb(109, 23, 182)\", \"rgb(188, 1, 59)\", \"rgb(113, 150, 151)\", \"rgb(232, 212, 141)\"]}, \"hovertext\": [\" <b style=\\\"font-size: 20px\\\"> Lionel </b> Andr\\u00e9s Messi Cuccittini (Rosario, 24\", \" la que es capit\\u00e1n. Lionel <b style=\\\"font-size: 20px\\\"> Andr\\u00e9s </b> Messi Cuccittini (Rosario, 24 de\", \" que es capit\\u00e1n. Lionel Andr\\u00e9s <b style=\\\"font-size: 20px\\\"> Messi </b> Cuccittini (Rosario, 24 de junio\", \" es capit\\u00e1n. Lionel Andr\\u00e9s Messi <b style=\\\"font-size: 20px\\\"> Cuccittini </b> (Rosario, 24 de junio de\", \" capit\\u00e1n. Lionel Andr\\u00e9s Messi Cuccittini <b style=\\\"font-size: 20px\\\"> (Rosario, </b> 24 de junio de 1987),\", \" Lionel Andr\\u00e9s Messi Cuccittini (Rosario, <b style=\\\"font-size: 20px\\\"> 24 </b> de junio de 1987), conocido\", \" Andr\\u00e9s Messi Cuccittini (Rosario, 24 <b style=\\\"font-size: 20px\\\"> de </b> junio de 1987), conocido como\", \" Messi Cuccittini (Rosario, 24 de <b style=\\\"font-size: 20px\\\"> junio </b> de 1987), conocido como Leo\", \" Cuccittini (Rosario, 24 de junio <b style=\\\"font-size: 20px\\\"> de </b> 1987), conocido como Leo Messi,\", \" (Rosario, 24 de junio de <b style=\\\"font-size: 20px\\\"> 1987), </b> conocido como Leo Messi, es\", \" 24 de junio de 1987), <b style=\\\"font-size: 20px\\\"> conocido </b> como Leo Messi, es un\", \" de junio de 1987), conocido <b style=\\\"font-size: 20px\\\"> como </b> Leo Messi, es un futbolista\", \" junio de 1987), conocido como <b style=\\\"font-size: 20px\\\"> Leo </b> Messi, es un futbolista argentino\", \" de 1987), conocido como Leo <b style=\\\"font-size: 20px\\\"> Messi, </b> es un futbolista argentino que\", \" 1987), conocido como Leo Messi, <b style=\\\"font-size: 20px\\\"> es </b> un futbolista argentino que juega\", \" conocido como Leo Messi, es <b style=\\\"font-size: 20px\\\"> un </b> futbolista argentino que juega como\", \" como Leo Messi, es un <b style=\\\"font-size: 20px\\\"> futbolista </b> argentino que juega como delantero\", \" Leo Messi, es un futbolista <b style=\\\"font-size: 20px\\\"> argentino </b> que juega como delantero o\", \" Messi, es un futbolista argentino <b style=\\\"font-size: 20px\\\"> que </b> juega como delantero o centrocampista.\", \" es un futbolista argentino que <b style=\\\"font-size: 20px\\\"> juega </b> como delantero o centrocampista. Ha\", \" un futbolista argentino que juega <b style=\\\"font-size: 20px\\\"> como </b> delantero o centrocampista. Ha desarrollado\", \" futbolista argentino que juega como <b style=\\\"font-size: 20px\\\"> delantero </b> o centrocampista. Ha desarrollado toda\", \" argentino que juega como delantero <b style=\\\"font-size: 20px\\\"> o </b> centrocampista. Ha desarrollado toda su\", \" que juega como delantero o <b style=\\\"font-size: 20px\\\"> centrocampista. </b> Ha desarrollado toda su carrera\", \" juega como delantero o centrocampista. <b style=\\\"font-size: 20px\\\"> Ha </b> desarrollado toda su carrera en\", \" como delantero o centrocampista. Ha <b style=\\\"font-size: 20px\\\"> desarrollado </b> toda su carrera en el\", \" delantero o centrocampista. Ha desarrollado <b style=\\\"font-size: 20px\\\"> toda </b> su carrera en el F.\", \" o centrocampista. Ha desarrollado toda <b style=\\\"font-size: 20px\\\"> su </b> carrera en el F. C.\", \" centrocampista. Ha desarrollado toda su <b style=\\\"font-size: 20px\\\"> carrera </b> en el F. C. Barcelona\", \" Ha desarrollado toda su carrera <b style=\\\"font-size: 20px\\\"> en </b> el F. C. Barcelona de\", \" desarrollado toda su carrera en <b style=\\\"font-size: 20px\\\"> el </b> F. C. Barcelona de la\", \" toda su carrera en el <b style=\\\"font-size: 20px\\\"> F. </b> C. Barcelona de la Primera\", \" su carrera en el F. <b style=\\\"font-size: 20px\\\"> C. </b> Barcelona de la Primera Divisi\\u00f3n\", \" carrera en el F. C. <b style=\\\"font-size: 20px\\\"> Barcelona </b> de la Primera Divisi\\u00f3n de\", \" en el F. C. Barcelona <b style=\\\"font-size: 20px\\\"> de </b> la Primera Divisi\\u00f3n de Espa\\u00f1a\", \" el F. C. Barcelona de <b style=\\\"font-size: 20px\\\"> la </b> Primera Divisi\\u00f3n de Espa\\u00f1a y\", \" F. C. Barcelona de la <b style=\\\"font-size: 20px\\\"> Primera </b> Divisi\\u00f3n de Espa\\u00f1a y en\", \" C. Barcelona de la Primera <b style=\\\"font-size: 20px\\\"> Divisi\\u00f3n </b> de Espa\\u00f1a y en la\", \" Barcelona de la Primera Divisi\\u00f3n <b style=\\\"font-size: 20px\\\"> de </b> Espa\\u00f1a y en la selecci\\u00f3n\", \" de la Primera Divisi\\u00f3n de <b style=\\\"font-size: 20px\\\"> Espa\\u00f1a </b> y en la selecci\\u00f3n argentina,\", \" la Primera Divisi\\u00f3n de Espa\\u00f1a <b style=\\\"font-size: 20px\\\"> y </b> en la selecci\\u00f3n argentina, de\", \" Primera Divisi\\u00f3n de Espa\\u00f1a y <b style=\\\"font-size: 20px\\\"> en </b> la selecci\\u00f3n argentina, de la\", \" Divisi\\u00f3n de Espa\\u00f1a y en <b style=\\\"font-size: 20px\\\"> la </b> selecci\\u00f3n argentina, de la que\", \" de Espa\\u00f1a y en la <b style=\\\"font-size: 20px\\\"> selecci\\u00f3n </b> argentina, de la que es\", \" Espa\\u00f1a y en la selecci\\u00f3n <b style=\\\"font-size: 20px\\\"> argentina, </b> de la que es capit\\u00e1n.\", \" y en la selecci\\u00f3n argentina, <b style=\\\"font-size: 20px\\\"> de </b> la que es capit\\u00e1n. Cristiano\", \" en la selecci\\u00f3n argentina, de <b style=\\\"font-size: 20px\\\"> la </b> que es capit\\u00e1n. Cristiano Ronaldo\", \" la selecci\\u00f3n argentina, de la <b style=\\\"font-size: 20px\\\"> que </b> es capit\\u00e1n. Cristiano Ronaldo dos\", \" selecci\\u00f3n argentina, de la que <b style=\\\"font-size: 20px\\\"> es </b> capit\\u00e1n. Cristiano Ronaldo dos Santos\", \" argentina, de la que es <b style=\\\"font-size: 20px\\\"> capit\\u00e1n. </b> Cristiano Ronaldo dos Santos Aveiro,\", \" de la que es capit\\u00e1n. <b style=\\\"font-size: 20px\\\"> Cristiano </b> Ronaldo dos Santos Aveiro, (Funchal,\", \" la que es capit\\u00e1n. Cristiano <b style=\\\"font-size: 20px\\\"> Ronaldo </b> dos Santos Aveiro, (Funchal, Madeira,\", \" que es capit\\u00e1n. Cristiano Ronaldo <b style=\\\"font-size: 20px\\\"> dos </b> Santos Aveiro, (Funchal, Madeira, 5\", \" es capit\\u00e1n. Cristiano Ronaldo dos <b style=\\\"font-size: 20px\\\"> Santos </b> Aveiro, (Funchal, Madeira, 5 de\", \" capit\\u00e1n. Cristiano Ronaldo dos Santos <b style=\\\"font-size: 20px\\\"> Aveiro, </b> (Funchal, Madeira, 5 de febrero\", \" Cristiano Ronaldo dos Santos Aveiro, <b style=\\\"font-size: 20px\\\"> (Funchal, </b> Madeira, 5 de febrero de\", \" Ronaldo dos Santos Aveiro, (Funchal, <b style=\\\"font-size: 20px\\\"> Madeira, </b> 5 de febrero de 1985),\", \" dos Santos Aveiro, (Funchal, Madeira, <b style=\\\"font-size: 20px\\\"> 5 </b> de febrero de 1985), m\\u00e1s\", \" Santos Aveiro, (Funchal, Madeira, 5 <b style=\\\"font-size: 20px\\\"> de </b> febrero de 1985), m\\u00e1s conocido\", \" Aveiro, (Funchal, Madeira, 5 de <b style=\\\"font-size: 20px\\\"> febrero </b> de 1985), m\\u00e1s conocido como\", \" (Funchal, Madeira, 5 de febrero <b style=\\\"font-size: 20px\\\"> de </b> 1985), m\\u00e1s conocido como Cristiano\", \" Madeira, 5 de febrero de <b style=\\\"font-size: 20px\\\"> 1985), </b> m\\u00e1s conocido como Cristiano Ronaldo,\", \" 5 de febrero de 1985), <b style=\\\"font-size: 20px\\\"> m\\u00e1s </b> conocido como Cristiano Ronaldo, es\", \" de febrero de 1985), m\\u00e1s <b style=\\\"font-size: 20px\\\"> conocido </b> como Cristiano Ronaldo, es un\", \" febrero de 1985), m\\u00e1s conocido <b style=\\\"font-size: 20px\\\"> como </b> Cristiano Ronaldo, es un futbolista\", \" de 1985), m\\u00e1s conocido como <b style=\\\"font-size: 20px\\\"> Cristiano </b> Ronaldo, es un futbolista portugu\\u00e9s\", \" 1985), m\\u00e1s conocido como Cristiano <b style=\\\"font-size: 20px\\\"> Ronaldo, </b> es un futbolista portugu\\u00e9s que\", \" m\\u00e1s conocido como Cristiano Ronaldo, <b style=\\\"font-size: 20px\\\"> es </b> un futbolista portugu\\u00e9s que juega\", \" conocido como Cristiano Ronaldo, es <b style=\\\"font-size: 20px\\\"> un </b> futbolista portugu\\u00e9s que juega como\", \" como Cristiano Ronaldo, es un <b style=\\\"font-size: 20px\\\"> futbolista </b> portugu\\u00e9s que juega como delantero\", \" Cristiano Ronaldo, es un futbolista <b style=\\\"font-size: 20px\\\"> portugu\\u00e9s </b> que juega como delantero en\", \" Ronaldo, es un futbolista portugu\\u00e9s <b style=\\\"font-size: 20px\\\"> que </b> juega como delantero en la\", \" es un futbolista portugu\\u00e9s que <b style=\\\"font-size: 20px\\\"> juega </b> como delantero en la Juventus\", \" un futbolista portugu\\u00e9s que juega <b style=\\\"font-size: 20px\\\"> como </b> delantero en la Juventus de\", \" futbolista portugu\\u00e9s que juega como <b style=\\\"font-size: 20px\\\"> delantero </b> en la Juventus de Tur\\u00edn\", \" portugu\\u00e9s que juega como delantero <b style=\\\"font-size: 20px\\\"> en </b> la Juventus de Tur\\u00edn de\", \" que juega como delantero en <b style=\\\"font-size: 20px\\\"> la </b> Juventus de Tur\\u00edn de la\", \" juega como delantero en la <b style=\\\"font-size: 20px\\\"> Juventus </b> de Tur\\u00edn de la Serie\", \" como delantero en la Juventus <b style=\\\"font-size: 20px\\\"> de </b> Tur\\u00edn de la Serie A\", \" delantero en la Juventus de <b style=\\\"font-size: 20px\\\"> Tur\\u00edn </b> de la Serie A de\", \" en la Juventus de Tur\\u00edn <b style=\\\"font-size: 20px\\\"> de </b> la Serie A de Italia\", \" la Juventus de Tur\\u00edn de <b style=\\\"font-size: 20px\\\"> la </b> Serie A de Italia y\", \" Juventus de Tur\\u00edn de la <b style=\\\"font-size: 20px\\\"> Serie </b> A de Italia y en\", \" de Tur\\u00edn de la Serie <b style=\\\"font-size: 20px\\\"> A </b> de Italia y en la\", \" Tur\\u00edn de la Serie A <b style=\\\"font-size: 20px\\\"> de </b> Italia y en la selecci\\u00f3n\", \" de la Serie A de <b style=\\\"font-size: 20px\\\"> Italia </b> y en la selecci\\u00f3n de\", \" la Serie A de Italia <b style=\\\"font-size: 20px\\\"> y </b> en la selecci\\u00f3n de Portugal,\", \" Serie A de Italia y <b style=\\\"font-size: 20px\\\"> en </b> la selecci\\u00f3n de Portugal, de\", \" A de Italia y en <b style=\\\"font-size: 20px\\\"> la </b> selecci\\u00f3n de Portugal, de la\", \" de Italia y en la <b style=\\\"font-size: 20px\\\"> selecci\\u00f3n </b> de Portugal, de la que\", \" Italia y en la selecci\\u00f3n <b style=\\\"font-size: 20px\\\"> de </b> Portugal, de la que es\", \" y en la selecci\\u00f3n de <b style=\\\"font-size: 20px\\\"> Portugal, </b> de la que es capit\\u00e1n.\", \" en la selecci\\u00f3n de Portugal, <b style=\\\"font-size: 20px\\\"> de </b>\", \" la selecci\\u00f3n de Portugal, de <b style=\\\"font-size: 20px\\\"> la </b>\", \" selecci\\u00f3n de Portugal, de la <b style=\\\"font-size: 20px\\\"> que </b>\", \" de Portugal, de la que <b style=\\\"font-size: 20px\\\"> es </b>\", \" Portugal, de la que es <b style=\\\"font-size: 20px\\\"> capit\\u00e1n. </b>\"], \"marker\": {\"color\": [\"rgb(18, 215, 199)\", \"rgb(203, 88, 138)\", \"rgb(185, 48, 223)\", \"rgb(10, 195, 101)\", \"rgb(172, 240, 63)\", \"rgb(47, 182, 124)\", \"rgb(77, 103, 128)\", \"rgb(248, 39, 166)\", \"rgb(77, 103, 128)\", \"rgb(4, 249, 141)\", \"rgb(47, 94, 52)\", \"rgb(5, 133, 249)\", \"rgb(112, 16, 148)\", \"rgb(78, 216, 51)\", \"rgb(113, 150, 151)\", \"rgb(11, 245, 50)\", \"rgb(134, 198, 31)\", \"rgb(198, 126, 223)\", \"rgb(188, 1, 59)\", \"rgb(93, 203, 250)\", \"rgb(5, 133, 249)\", \"rgb(12, 36, 141)\", \"rgb(255, 5, 107)\", \"rgb(44, 98, 56)\", \"rgb(199, 177, 183)\", \"rgb(196, 39, 160)\", \"rgb(33, 160, 206)\", \"rgb(208, 31, 51)\", \"rgb(244, 58, 221)\", \"rgb(52, 130, 241)\", \"rgb(186, 71, 126)\", \"rgb(135, 191, 96)\", \"rgb(104, 185, 154)\", \"rgb(162, 156, 99)\", \"rgb(77, 103, 128)\", \"rgb(109, 23, 182)\", \"rgb(189, 147, 108)\", \"rgb(45, 144, 89)\", \"rgb(77, 103, 128)\", \"rgb(64, 88, 176)\", \"rgb(0, 92, 224)\", \"rgb(52, 130, 241)\", \"rgb(109, 23, 182)\", \"rgb(106, 171, 50)\", \"rgb(8, 2, 177)\", \"rgb(77, 103, 128)\", \"rgb(109, 23, 182)\", \"rgb(188, 1, 59)\", \"rgb(113, 150, 151)\", \"rgb(232, 212, 141)\", \"rgb(142, 52, 250)\", \"rgb(59, 87, 90)\", \"rgb(56, 221, 178)\", \"rgb(39, 151, 246)\", \"rgb(106, 49, 249)\", \"rgb(179, 209, 101)\", \"rgb(56, 250, 198)\", \"rgb(15, 253, 104)\", \"rgb(77, 103, 128)\", \"rgb(193, 49, 17)\", \"rgb(77, 103, 128)\", \"rgb(199, 228, 130)\", \"rgb(29, 100, 255)\", \"rgb(47, 94, 52)\", \"rgb(5, 133, 249)\", \"rgb(142, 52, 250)\", \"rgb(86, 226, 210)\", \"rgb(113, 150, 151)\", \"rgb(11, 245, 50)\", \"rgb(134, 198, 31)\", \"rgb(98, 175, 60)\", \"rgb(188, 1, 59)\", \"rgb(93, 203, 250)\", \"rgb(5, 133, 249)\", \"rgb(12, 36, 141)\", \"rgb(52, 130, 241)\", \"rgb(109, 23, 182)\", \"rgb(66, 215, 20)\", \"rgb(77, 103, 128)\", \"rgb(138, 106, 164)\", \"rgb(77, 103, 128)\", \"rgb(109, 23, 182)\", \"rgb(25, 170, 70)\", \"rgb(188, 245, 28)\", \"rgb(77, 103, 128)\", \"rgb(46, 177, 58)\", \"rgb(0, 92, 224)\", \"rgb(52, 130, 241)\", \"rgb(109, 23, 182)\", \"rgb(106, 171, 50)\", \"rgb(77, 103, 128)\", \"rgb(118, 178, 241)\", \"rgb(77, 103, 128)\", \"rgb(109, 23, 182)\", \"rgb(188, 1, 59)\", \"rgb(113, 150, 151)\", \"rgb(232, 212, 141)\"], \"opacity\": 0.8, \"size\": 3}, \"mode\": \"markers\", \"type\": \"scatter3d\", \"uid\": \"08f10b3b-2df1-4d71-a58a-f505b388b259\", \"x\": [18.450995694395296, 13.110200220177473, 19.47087701208008, 11.299893720862046, 0.7974903092139634, 6.707301428042531, -14.556716052314691, 2.4648849007724745, -13.614510126199708, 9.299112398727395, 1.4132498590393698, -7.594246410349049, 14.61709810004706, 18.1647496154135, -5.806090045897618, -7.669866416849081, 7.214512954783824, 9.979794459863296, -10.636014468866248, 0.05283657743295523, -8.657515529352445, 9.274756753880041, -5.077055669505475, 10.505605867099275, -0.6777088444927373, 1.338502675312301, 1.405239322670634, -11.162423510990394, 0.8889631632076063, -10.688463136948158, -12.932400041382504, 7.632209056084233, 7.393702863062598, 12.011743625231349, -15.827978618949917, -18.23681190904089, 4.871158539407244, 4.070782032611551, -16.708629141527805, 9.11842752556564, -10.045066243750993, -13.401029952611765, -17.229425078079977, 2.311577299871292, 10.189030533970392, -14.906604821650149, -15.704822749919208, -13.536228585657076, -6.995993408984508, 6.466703511453387, 20.06938791944899, 20.92842735466216, 16.44198486376979, 17.623165547404714, 16.586006958869756, 1.9884226887002976, 15.740096941946526, 6.836951352181623, -13.656815221129161, 2.581392198979325, -13.26817079649356, 10.21193053807035, 0.6635906089861077, 2.119694601633566, -6.191523993579383, 19.6906971101507, 20.660631955932583, -3.656280129661886, -6.6381915143314, 7.230052023962212, 15.439359711531004, -8.755186022797767, 0.2538065156118099, -7.557530057156273, 8.282783196508129, -11.45603851464362, -13.444129220726383, 15.426038608643493, -10.829430440463458, 12.472707441287028, -16.041694873657523, -18.249078745125864, 8.613351621771596, 6.948637728109961, -16.34733480656652, 12.117658259000851, -9.535971907497213, -14.003229828385445, -16.897472139100547, 2.5012856688895764, -12.366177799048929, 12.609723751364916, -14.169932782226745, -15.538659577737786, -13.45605152829433, -6.288859547475033, 5.454175021723359], \"y\": [-4.380552863694497, -3.8915955931362287, -4.453411100738538, -6.753406803937715, -15.60541588967481, -14.358266834179785, -14.889039149674236, -12.071693501607529, -14.138326997241428, -15.619954362084615, -15.113126861403096, -14.776930468673305, -5.651808945441392, -2.7601829342939483, -11.083176099606527, -9.59711996393958, 6.838331170122406, 3.3225674132919463, -8.49198498644529, -0.7548559691342183, -3.9868175267218398, 9.996897522238964, -5.310157974459056, 8.644707249944998, -2.9235233792550708, 0.24501508668464586, 2.1785652577489034, -0.9205607672270275, 6.460050087401931, 7.075529701696947, 5.51408445634772, 13.544797389916301, 13.805815740905325, 11.885441968226898, 7.703769870122537, 4.37316240630096, 17.068683252951043, 17.30553761724286, 5.3695230341342555, 10.11663486785879, -0.010541841508636574, 8.283159455466183, 6.66985925782619, 17.913268214137684, 11.302606662719644, 4.761861888702833, 7.422372989811839, 1.4837660459802344, -5.496971449711511, 4.519618190068173, -5.342700699588208, -2.45858435701654, -6.4543810249892966, -5.240525523761149, -4.796682938931705, -15.57217448764401, -1.3277793584632696, -15.31106602732749, -15.271118412339789, -12.954881548083227, -14.54215984213626, -16.46700770667441, -15.049386661896463, -14.186084953671333, -14.855223874679218, -4.433168678648899, -2.185892091386721, -11.678238584713688, -10.732188713118632, 5.650290094564924, -0.19998321706303407, -8.414162041699777, 0.6423667718367054, -3.2190099571372874, 9.793798167250802, 5.970017486021367, 6.274415559390319, 14.055457067738288, 2.340433743015076, 7.86562547644642, 6.049223685954622, 3.9239617705572236, 14.703932285873186, 16.228111225559505, 4.756941780415918, 10.457393123826396, -0.034571138407386987, 7.818752982579198, 8.6601494063468, 18.751504188471706, 8.411744026173253, 7.330923021277931, 6.438124167790262, 8.898474494631305, 2.661477800858568, -4.006934974088235, 6.28458395282586], \"z\": [-2.7226668190965815, -4.747764770596258, -1.0932589860449111, -7.202707691573734, -1.619138192511629, -12.874607823779293, -12.397427888314935, -14.827366483035654, -12.297046227121857, -5.908961036955523, 10.943748228674638, 7.814554724378772, 1.0060483697982259, 1.7036926230875984, 11.009542608813012, 8.999736732634535, 11.318016674864193, -1.1050071318668062, 8.120923736237295, 20.033375549200905, 15.949550526738795, 14.990989910404846, 6.2397802896536305, 12.807966642626589, 9.75095408452237, 9.173879500865496, 4.311359586571736, 6.109700317358065, 11.515355688905714, 8.833379368036123, 3.0823005188540846, -2.96825484433359, -3.470850282687855, -2.856232903988529, -6.385366775401926, -6.280009922872037, 0.40605370529696283, -3.618955091791445, -11.50292795032599, -5.765540562202989, 2.898343383379933, 5.421627607679386, -3.3617689874113315, -3.1604595940933304, -5.953328915843872, -12.313722355636223, -10.18761174556904, -6.140573731018955, 10.581138093375248, 8.006526802775596, -1.0657941881003103, -1.6376423576172017, -11.970854828922754, -7.290503297565739, -8.137059533178096, -2.0218895408447017, -9.757661768792726, -14.986857114312302, -13.179325552476694, -14.88949770394427, -13.717380921529609, -8.456221813224541, 8.445952472287244, 11.49533841993739, 7.359872203068507, 3.1541637728682956, 1.0812636320943647, 11.750323347379522, 8.51521290336622, 11.895728647650037, -3.004505881999488, 10.100279835864535, 20.10713423810273, 16.92161703740947, 16.288693457392764, 9.078786967259061, 0.29593622451552737, -4.296757146191646, -7.690053624155511, -8.318548101307913, -5.895858743601925, -5.974062765870881, -2.6531190886702363, -3.660142524537452, -10.892247357988802, -8.131545242779552, 4.0376497312665025, 7.2781671181192396, -1.6538506160554678, -2.8502879301172213, -9.728432178665049, -6.882610807710035, -12.427760142459071, -9.281576542310848, -5.250177292726699, 10.091566352439887, 7.537549685975996]}],\n",
       "                        {\"height\": 480, \"margin\": {\"b\": 0, \"l\": 0, \"r\": 0, \"t\": 0}, \"title\": {\"text\": \"Embeddings con BERT\", \"x\": 0, \"y\": 1}, \"width\": 720},\n",
       "                        {\"showLink\": false, \"linkText\": \"Export to plot.ly\", \"plotlyServerURL\": \"https://plot.ly\", \"responsive\": true}\n",
       "                    ).then(function(){\n",
       "                            \n",
       "var gd = document.getElementById('d1d04c3c-0ca6-4113-97dd-f5fca07eceed');\n",
       "var x = new MutationObserver(function (mutations, observer) {{\n",
       "        var display = window.getComputedStyle(gd).display;\n",
       "        if (!display || display === 'none') {{\n",
       "            console.log([gd, 'removed!']);\n",
       "            Plotly.purge(gd);\n",
       "            observer.disconnect();\n",
       "        }}\n",
       "}});\n",
       "\n",
       "// Listen for the removal of the full notebook cells\n",
       "var notebookContainer = gd.closest('#notebook-container');\n",
       "if (notebookContainer) {{\n",
       "    x.observe(notebookContainer, {childList: true});\n",
       "}}\n",
       "\n",
       "// Listen for the clearing of the current output cell\n",
       "var outputEl = gd.closest('.output');\n",
       "if (outputEl) {{\n",
       "    x.observe(outputEl, {childList: true});\n",
       "}}\n",
       "\n",
       "                        })\n",
       "                };\n",
       "                });\n",
       "            </script>\n",
       "        </div>"
      ]
     },
     "metadata": {},
     "output_type": "display_data"
    }
   ],
   "source": [
    "iplot(fig)"
   ]
  },
  {
   "cell_type": "code",
   "execution_count": 4,
   "metadata": {
    "slideshow": {
     "slide_type": "skip"
    }
   },
   "outputs": [],
   "source": [
    "reduced = np.load(\"embs/glove_pca.npy\")\n",
    "colores = np.load(\"embs/glove_colores.npy\")\n",
    "textos = np.load(\"embs/glove_textos.npy\")\n",
    "x, y, z = reduced.T\n",
    "\n",
    "trace1 = go.Scatter3d(\n",
    "    x=x,\n",
    "    y=y,\n",
    "    z=z,\n",
    "    mode='markers',\n",
    "    hoverinfo = 'text',\n",
    "    hoverlabel=dict(bgcolor=colores),\n",
    "    hovertext = textos,\n",
    "    marker=dict(\n",
    "        color=colores,\n",
    "        size=3,\n",
    "        opacity=0.8\n",
    "    )\n",
    ")\n",
    "\n",
    "\n",
    "data = [trace1]\n",
    "layout = go.Layout(\n",
    "    title=go.layout.Title(\n",
    "        text='Embeddings con GloVe',\n",
    "        y=1,\n",
    "        x=0\n",
    "    ),\n",
    "    width=720,\n",
    "    height=480,\n",
    "    margin=dict(\n",
    "        l=0,\n",
    "        r=0,\n",
    "        b=0,\n",
    "        t=0\n",
    "    )\n",
    ")\n",
    "fig = go.Figure(data=data, layout=layout)"
   ]
  },
  {
   "cell_type": "code",
   "execution_count": 5,
   "metadata": {
    "scrolled": false,
    "slideshow": {
     "slide_type": "subslide"
    }
   },
   "outputs": [
    {
     "data": {
      "application/vnd.plotly.v1+json": {
       "config": {
        "linkText": "Export to plot.ly",
        "plotlyServerURL": "https://plot.ly",
        "showLink": false
       },
       "data": [
        {
         "hoverinfo": "text",
         "hoverlabel": {
          "bgcolor": [
           "rgb(218, 62, 176)",
           "rgb(22, 196, 33)",
           "rgb(90, 253, 115)",
           "rgb(100, 18, 178)",
           "rgb(51, 46, 87)",
           "rgb(106, 253, 222)",
           "rgb(227, 38, 70)",
           "rgb(225, 39, 74)",
           "rgb(227, 38, 70)",
           "rgb(99, 88, 173)",
           "rgb(93, 165, 163)",
           "rgb(179, 61, 24)",
           "rgb(190, 81, 73)",
           "rgb(0, 188, 106)",
           "rgb(198, 6, 20)",
           "rgb(132, 197, 252)",
           "rgb(241, 216, 190)",
           "rgb(252, 224, 156)",
           "rgb(124, 30, 210)",
           "rgb(124, 145, 135)",
           "rgb(179, 61, 24)",
           "rgb(8, 126, 55)",
           "rgb(188, 249, 151)",
           "rgb(11, 193, 165)",
           "rgb(162, 138, 114)",
           "rgb(76, 218, 153)",
           "rgb(49, 120, 120)",
           "rgb(217, 41, 233)",
           "rgb(200, 87, 190)",
           "rgb(78, 55, 13)",
           "rgb(75, 0, 157)",
           "rgb(134, 188, 42)",
           "rgb(39, 14, 227)",
           "rgb(100, 107, 204)",
           "rgb(227, 38, 70)",
           "rgb(249, 149, 103)",
           "rgb(159, 176, 16)",
           "rgb(32, 117, 133)",
           "rgb(227, 38, 70)",
           "rgb(48, 237, 217)",
           "rgb(232, 157, 127)",
           "rgb(78, 55, 13)",
           "rgb(249, 149, 103)",
           "rgb(43, 146, 208)",
           "rgb(116, 50, 193)",
           "rgb(227, 38, 70)",
           "rgb(249, 149, 103)",
           "rgb(124, 30, 210)",
           "rgb(198, 6, 20)",
           "rgb(10, 125, 174)",
           "rgb(203, 61, 134)",
           "rgb(246, 73, 126)",
           "rgb(65, 29, 135)",
           "rgb(97, 125, 204)",
           "rgb(26, 56, 61)",
           "rgb(162, 245, 100)",
           "rgb(134, 29, 212)",
           "rgb(125, 119, 179)",
           "rgb(227, 38, 70)",
           "rgb(92, 220, 178)",
           "rgb(227, 38, 70)",
           "rgb(139, 145, 183)",
           "rgb(3, 156, 230)",
           "rgb(93, 165, 163)",
           "rgb(179, 61, 24)",
           "rgb(203, 61, 134)",
           "rgb(30, 200, 23)",
           "rgb(198, 6, 20)",
           "rgb(132, 197, 252)",
           "rgb(241, 216, 190)",
           "rgb(196, 95, 113)",
           "rgb(124, 30, 210)",
           "rgb(124, 145, 135)",
           "rgb(179, 61, 24)",
           "rgb(8, 126, 55)",
           "rgb(78, 55, 13)",
           "rgb(249, 149, 103)",
           "rgb(189, 18, 43)",
           "rgb(227, 38, 70)",
           "rgb(20, 115, 92)",
           "rgb(227, 38, 70)",
           "rgb(249, 149, 103)",
           "rgb(35, 145, 181)",
           "rgb(135, 39, 171)",
           "rgb(227, 38, 70)",
           "rgb(7, 20, 11)",
           "rgb(232, 157, 127)",
           "rgb(78, 55, 13)",
           "rgb(249, 149, 103)",
           "rgb(43, 146, 208)",
           "rgb(227, 38, 70)",
           "rgb(62, 162, 34)",
           "rgb(227, 38, 70)",
           "rgb(249, 149, 103)",
           "rgb(124, 30, 210)",
           "rgb(198, 6, 20)",
           "rgb(10, 125, 174)"
          ]
         },
         "hovertext": [
          " <b style=\"font-size: 20px\"> Lionel </b> Andrés Messi Cuccittini (Rosario, 24",
          " la que es capitán. Lionel <b style=\"font-size: 20px\"> Andrés </b> Messi Cuccittini (Rosario, 24 de",
          " que es capitán. Lionel Andrés <b style=\"font-size: 20px\"> Messi </b> Cuccittini (Rosario, 24 de junio",
          " es capitán. Lionel Andrés Messi <b style=\"font-size: 20px\"> Cuccittini </b> (Rosario, 24 de junio de",
          " capitán. Lionel Andrés Messi Cuccittini <b style=\"font-size: 20px\"> (Rosario, </b> 24 de junio de 1987),",
          " Lionel Andrés Messi Cuccittini (Rosario, <b style=\"font-size: 20px\"> 24 </b> de junio de 1987), conocido",
          " Andrés Messi Cuccittini (Rosario, 24 <b style=\"font-size: 20px\"> de </b> junio de 1987), conocido como",
          " Messi Cuccittini (Rosario, 24 de <b style=\"font-size: 20px\"> junio </b> de 1987), conocido como Leo",
          " Cuccittini (Rosario, 24 de junio <b style=\"font-size: 20px\"> de </b> 1987), conocido como Leo Messi,",
          " (Rosario, 24 de junio de <b style=\"font-size: 20px\"> 1987), </b> conocido como Leo Messi, es",
          " 24 de junio de 1987), <b style=\"font-size: 20px\"> conocido </b> como Leo Messi, es un",
          " de junio de 1987), conocido <b style=\"font-size: 20px\"> como </b> Leo Messi, es un futbolista",
          " junio de 1987), conocido como <b style=\"font-size: 20px\"> Leo </b> Messi, es un futbolista argentino",
          " de 1987), conocido como Leo <b style=\"font-size: 20px\"> Messi, </b> es un futbolista argentino que",
          " 1987), conocido como Leo Messi, <b style=\"font-size: 20px\"> es </b> un futbolista argentino que juega",
          " conocido como Leo Messi, es <b style=\"font-size: 20px\"> un </b> futbolista argentino que juega como",
          " como Leo Messi, es un <b style=\"font-size: 20px\"> futbolista </b> argentino que juega como delantero",
          " Leo Messi, es un futbolista <b style=\"font-size: 20px\"> argentino </b> que juega como delantero o",
          " Messi, es un futbolista argentino <b style=\"font-size: 20px\"> que </b> juega como delantero o centrocampista.",
          " es un futbolista argentino que <b style=\"font-size: 20px\"> juega </b> como delantero o centrocampista. Ha",
          " un futbolista argentino que juega <b style=\"font-size: 20px\"> como </b> delantero o centrocampista. Ha desarrollado",
          " futbolista argentino que juega como <b style=\"font-size: 20px\"> delantero </b> o centrocampista. Ha desarrollado toda",
          " argentino que juega como delantero <b style=\"font-size: 20px\"> o </b> centrocampista. Ha desarrollado toda su",
          " que juega como delantero o <b style=\"font-size: 20px\"> centrocampista. </b> Ha desarrollado toda su carrera",
          " juega como delantero o centrocampista. <b style=\"font-size: 20px\"> Ha </b> desarrollado toda su carrera en",
          " como delantero o centrocampista. Ha <b style=\"font-size: 20px\"> desarrollado </b> toda su carrera en el",
          " delantero o centrocampista. Ha desarrollado <b style=\"font-size: 20px\"> toda </b> su carrera en el F.",
          " o centrocampista. Ha desarrollado toda <b style=\"font-size: 20px\"> su </b> carrera en el F. C.",
          " centrocampista. Ha desarrollado toda su <b style=\"font-size: 20px\"> carrera </b> en el F. C. Barcelona",
          " Ha desarrollado toda su carrera <b style=\"font-size: 20px\"> en </b> el F. C. Barcelona de",
          " desarrollado toda su carrera en <b style=\"font-size: 20px\"> el </b> F. C. Barcelona de la",
          " toda su carrera en el <b style=\"font-size: 20px\"> F. </b> C. Barcelona de la Primera",
          " su carrera en el F. <b style=\"font-size: 20px\"> C. </b> Barcelona de la Primera División",
          " carrera en el F. C. <b style=\"font-size: 20px\"> Barcelona </b> de la Primera División de",
          " en el F. C. Barcelona <b style=\"font-size: 20px\"> de </b> la Primera División de España",
          " el F. C. Barcelona de <b style=\"font-size: 20px\"> la </b> Primera División de España y",
          " F. C. Barcelona de la <b style=\"font-size: 20px\"> Primera </b> División de España y en",
          " C. Barcelona de la Primera <b style=\"font-size: 20px\"> División </b> de España y en la",
          " Barcelona de la Primera División <b style=\"font-size: 20px\"> de </b> España y en la selección",
          " de la Primera División de <b style=\"font-size: 20px\"> España </b> y en la selección argentina,",
          " la Primera División de España <b style=\"font-size: 20px\"> y </b> en la selección argentina, de",
          " Primera División de España y <b style=\"font-size: 20px\"> en </b> la selección argentina, de la",
          " División de España y en <b style=\"font-size: 20px\"> la </b> selección argentina, de la que",
          " de España y en la <b style=\"font-size: 20px\"> selección </b> argentina, de la que es",
          " España y en la selección <b style=\"font-size: 20px\"> argentina, </b> de la que es capitán.",
          " y en la selección argentina, <b style=\"font-size: 20px\"> de </b> la que es capitán. Cristiano",
          " en la selección argentina, de <b style=\"font-size: 20px\"> la </b> que es capitán. Cristiano Ronaldo",
          " la selección argentina, de la <b style=\"font-size: 20px\"> que </b> es capitán. Cristiano Ronaldo dos",
          " selección argentina, de la que <b style=\"font-size: 20px\"> es </b> capitán. Cristiano Ronaldo dos Santos",
          " argentina, de la que es <b style=\"font-size: 20px\"> capitán. </b> Cristiano Ronaldo dos Santos Aveiro,",
          " de la que es capitán. <b style=\"font-size: 20px\"> Cristiano </b> Ronaldo dos Santos Aveiro, (Funchal,",
          " la que es capitán. Cristiano <b style=\"font-size: 20px\"> Ronaldo </b> dos Santos Aveiro, (Funchal, Madeira,",
          " que es capitán. Cristiano Ronaldo <b style=\"font-size: 20px\"> dos </b> Santos Aveiro, (Funchal, Madeira, 5",
          " es capitán. Cristiano Ronaldo dos <b style=\"font-size: 20px\"> Santos </b> Aveiro, (Funchal, Madeira, 5 de",
          " capitán. Cristiano Ronaldo dos Santos <b style=\"font-size: 20px\"> Aveiro, </b> (Funchal, Madeira, 5 de febrero",
          " Cristiano Ronaldo dos Santos Aveiro, <b style=\"font-size: 20px\"> (Funchal, </b> Madeira, 5 de febrero de",
          " Ronaldo dos Santos Aveiro, (Funchal, <b style=\"font-size: 20px\"> Madeira, </b> 5 de febrero de 1985),",
          " dos Santos Aveiro, (Funchal, Madeira, <b style=\"font-size: 20px\"> 5 </b> de febrero de 1985), más",
          " Santos Aveiro, (Funchal, Madeira, 5 <b style=\"font-size: 20px\"> de </b> febrero de 1985), más conocido",
          " Aveiro, (Funchal, Madeira, 5 de <b style=\"font-size: 20px\"> febrero </b> de 1985), más conocido como",
          " (Funchal, Madeira, 5 de febrero <b style=\"font-size: 20px\"> de </b> 1985), más conocido como Cristiano",
          " Madeira, 5 de febrero de <b style=\"font-size: 20px\"> 1985), </b> más conocido como Cristiano Ronaldo,",
          " 5 de febrero de 1985), <b style=\"font-size: 20px\"> más </b> conocido como Cristiano Ronaldo, es",
          " de febrero de 1985), más <b style=\"font-size: 20px\"> conocido </b> como Cristiano Ronaldo, es un",
          " febrero de 1985), más conocido <b style=\"font-size: 20px\"> como </b> Cristiano Ronaldo, es un futbolista",
          " de 1985), más conocido como <b style=\"font-size: 20px\"> Cristiano </b> Ronaldo, es un futbolista portugués",
          " 1985), más conocido como Cristiano <b style=\"font-size: 20px\"> Ronaldo, </b> es un futbolista portugués que",
          " más conocido como Cristiano Ronaldo, <b style=\"font-size: 20px\"> es </b> un futbolista portugués que juega",
          " conocido como Cristiano Ronaldo, es <b style=\"font-size: 20px\"> un </b> futbolista portugués que juega como",
          " como Cristiano Ronaldo, es un <b style=\"font-size: 20px\"> futbolista </b> portugués que juega como delantero",
          " Cristiano Ronaldo, es un futbolista <b style=\"font-size: 20px\"> portugués </b> que juega como delantero en",
          " Ronaldo, es un futbolista portugués <b style=\"font-size: 20px\"> que </b> juega como delantero en la",
          " es un futbolista portugués que <b style=\"font-size: 20px\"> juega </b> como delantero en la Juventus",
          " un futbolista portugués que juega <b style=\"font-size: 20px\"> como </b> delantero en la Juventus de",
          " futbolista portugués que juega como <b style=\"font-size: 20px\"> delantero </b> en la Juventus de Turín",
          " portugués que juega como delantero <b style=\"font-size: 20px\"> en </b> la Juventus de Turín de",
          " que juega como delantero en <b style=\"font-size: 20px\"> la </b> Juventus de Turín de la",
          " juega como delantero en la <b style=\"font-size: 20px\"> Juventus </b> de Turín de la Serie",
          " como delantero en la Juventus <b style=\"font-size: 20px\"> de </b> Turín de la Serie A",
          " delantero en la Juventus de <b style=\"font-size: 20px\"> Turín </b> de la Serie A de",
          " en la Juventus de Turín <b style=\"font-size: 20px\"> de </b> la Serie A de Italia",
          " la Juventus de Turín de <b style=\"font-size: 20px\"> la </b> Serie A de Italia y",
          " Juventus de Turín de la <b style=\"font-size: 20px\"> Serie </b> A de Italia y en",
          " de Turín de la Serie <b style=\"font-size: 20px\"> A </b> de Italia y en la",
          " Turín de la Serie A <b style=\"font-size: 20px\"> de </b> Italia y en la selección",
          " de la Serie A de <b style=\"font-size: 20px\"> Italia </b> y en la selección de",
          " la Serie A de Italia <b style=\"font-size: 20px\"> y </b> en la selección de Portugal,",
          " Serie A de Italia y <b style=\"font-size: 20px\"> en </b> la selección de Portugal, de",
          " A de Italia y en <b style=\"font-size: 20px\"> la </b> selección de Portugal, de la",
          " de Italia y en la <b style=\"font-size: 20px\"> selección </b> de Portugal, de la que",
          " Italia y en la selección <b style=\"font-size: 20px\"> de </b> Portugal, de la que es",
          " y en la selección de <b style=\"font-size: 20px\"> Portugal, </b> de la que es capitán.",
          " en la selección de Portugal, <b style=\"font-size: 20px\"> de </b>",
          " la selección de Portugal, de <b style=\"font-size: 20px\"> la </b>",
          " selección de Portugal, de la <b style=\"font-size: 20px\"> que </b>",
          " de Portugal, de la que <b style=\"font-size: 20px\"> es </b>",
          " Portugal, de la que es <b style=\"font-size: 20px\"> capitán. </b>"
         ],
         "marker": {
          "color": [
           "rgb(218, 62, 176)",
           "rgb(22, 196, 33)",
           "rgb(90, 253, 115)",
           "rgb(100, 18, 178)",
           "rgb(51, 46, 87)",
           "rgb(106, 253, 222)",
           "rgb(227, 38, 70)",
           "rgb(225, 39, 74)",
           "rgb(227, 38, 70)",
           "rgb(99, 88, 173)",
           "rgb(93, 165, 163)",
           "rgb(179, 61, 24)",
           "rgb(190, 81, 73)",
           "rgb(0, 188, 106)",
           "rgb(198, 6, 20)",
           "rgb(132, 197, 252)",
           "rgb(241, 216, 190)",
           "rgb(252, 224, 156)",
           "rgb(124, 30, 210)",
           "rgb(124, 145, 135)",
           "rgb(179, 61, 24)",
           "rgb(8, 126, 55)",
           "rgb(188, 249, 151)",
           "rgb(11, 193, 165)",
           "rgb(162, 138, 114)",
           "rgb(76, 218, 153)",
           "rgb(49, 120, 120)",
           "rgb(217, 41, 233)",
           "rgb(200, 87, 190)",
           "rgb(78, 55, 13)",
           "rgb(75, 0, 157)",
           "rgb(134, 188, 42)",
           "rgb(39, 14, 227)",
           "rgb(100, 107, 204)",
           "rgb(227, 38, 70)",
           "rgb(249, 149, 103)",
           "rgb(159, 176, 16)",
           "rgb(32, 117, 133)",
           "rgb(227, 38, 70)",
           "rgb(48, 237, 217)",
           "rgb(232, 157, 127)",
           "rgb(78, 55, 13)",
           "rgb(249, 149, 103)",
           "rgb(43, 146, 208)",
           "rgb(116, 50, 193)",
           "rgb(227, 38, 70)",
           "rgb(249, 149, 103)",
           "rgb(124, 30, 210)",
           "rgb(198, 6, 20)",
           "rgb(10, 125, 174)",
           "rgb(203, 61, 134)",
           "rgb(246, 73, 126)",
           "rgb(65, 29, 135)",
           "rgb(97, 125, 204)",
           "rgb(26, 56, 61)",
           "rgb(162, 245, 100)",
           "rgb(134, 29, 212)",
           "rgb(125, 119, 179)",
           "rgb(227, 38, 70)",
           "rgb(92, 220, 178)",
           "rgb(227, 38, 70)",
           "rgb(139, 145, 183)",
           "rgb(3, 156, 230)",
           "rgb(93, 165, 163)",
           "rgb(179, 61, 24)",
           "rgb(203, 61, 134)",
           "rgb(30, 200, 23)",
           "rgb(198, 6, 20)",
           "rgb(132, 197, 252)",
           "rgb(241, 216, 190)",
           "rgb(196, 95, 113)",
           "rgb(124, 30, 210)",
           "rgb(124, 145, 135)",
           "rgb(179, 61, 24)",
           "rgb(8, 126, 55)",
           "rgb(78, 55, 13)",
           "rgb(249, 149, 103)",
           "rgb(189, 18, 43)",
           "rgb(227, 38, 70)",
           "rgb(20, 115, 92)",
           "rgb(227, 38, 70)",
           "rgb(249, 149, 103)",
           "rgb(35, 145, 181)",
           "rgb(135, 39, 171)",
           "rgb(227, 38, 70)",
           "rgb(7, 20, 11)",
           "rgb(232, 157, 127)",
           "rgb(78, 55, 13)",
           "rgb(249, 149, 103)",
           "rgb(43, 146, 208)",
           "rgb(227, 38, 70)",
           "rgb(62, 162, 34)",
           "rgb(227, 38, 70)",
           "rgb(249, 149, 103)",
           "rgb(124, 30, 210)",
           "rgb(198, 6, 20)",
           "rgb(10, 125, 174)"
          ],
          "opacity": 0.8,
          "size": 3
         },
         "mode": "markers",
         "type": "scatter3d",
         "uid": "75df7d4b-4182-4e6f-87aa-ee4dcff61835",
         "x": [
          -1.858246320715074,
          -1.0665832384344847,
          -2.406756069106714,
          -2.883088597458264,
          -2.8830885974582645,
          -1.190212118719102,
          4.56120934707095,
          -1.3538881356702133,
          4.561209347070949,
          -2.8830885974582645,
          -1.5531594600551544,
          0.4883037285316735,
          -1.5979000625673156,
          -2.883088597458264,
          0.8741240127803286,
          0.6857887309083096,
          -2.883088597458264,
          -1.1117861576260186,
          1.743378054551323,
          -2.8830885974582645,
          0.48830372853167364,
          -2.8830885974582645,
          0.3537197530369864,
          -2.8830885974582645,
          -0.10472492058589486,
          -2.8830885974582645,
          -0.9497396597589788,
          0.6323034685902171,
          -1.043859909357175,
          1.9353695494506244,
          1.968863662574474,
          -1.3967556603236213,
          -0.8261613202881002,
          -0.7989203565801142,
          4.561209347070951,
          3.571733395522436,
          -0.26453488705403033,
          -0.8581235357978788,
          4.561209347070951,
          -0.35444395882070523,
          1.999231343707466,
          1.9353695494506244,
          3.571733395522436,
          -2.2224589706316986,
          -2.8830885974582645,
          4.561209347070951,
          3.571733395522436,
          1.743378054551323,
          0.8741240127803286,
          -2.8830885974582645,
          -2.823787443492816,
          -2.1876496928464944,
          -0.11448070485155527,
          -0.48517659448058115,
          -2.8830885974582645,
          -2.8830885974582645,
          -2.8830885974582645,
          -1.0589934029081267,
          4.561209347070951,
          -0.8058100974837463,
          4.561209347070951,
          -2.8830885974582645,
          -0.838051627247561,
          -1.5531594600551544,
          0.48830372853167364,
          -2.823787443492816,
          -2.8830885974582645,
          0.8741240127803286,
          0.6857887309083095,
          -2.8830885974582645,
          -3.2551881722291305,
          1.743378054551323,
          -2.8830885974582645,
          0.48830372853167364,
          -2.8830885974582645,
          1.9353695494506244,
          3.571733395522436,
          -1.9541324860844416,
          4.561209347070951,
          -2.8830885974582645,
          4.561209347070951,
          3.571733395522436,
          -1.5511569515741312,
          -0.8937070106533903,
          4.561209347070951,
          -1.2725304039917307,
          1.999231343707466,
          1.9353695494506244,
          3.571733395522436,
          -2.2224589706316986,
          4.561209347070951,
          -2.8830885974582645,
          4.561209347070951,
          3.571733395522436,
          1.743378054551323,
          0.8741240127803286,
          -2.8830885974582645
         ],
         "y": [
          -1.8599807305321725,
          -0.8801102835098014,
          -2.512794903819599,
          -0.17956922552220694,
          -0.17956922552220841,
          -1.3588756069765608,
          -2.1182656255799004,
          0.2878475612097507,
          -2.118265625579901,
          -0.1795692255222097,
          1.5082142343712257,
          2.691073040604492,
          -1.7732905839233308,
          -0.1795692255222097,
          3.1681505135068053,
          0.8132106160530007,
          -0.17956922552220972,
          0.23802551614976145,
          4.3303218585442,
          -0.17956922552220977,
          2.6910730406044903,
          -0.17956922552220977,
          0.7852675227687393,
          -0.17956922552220977,
          2.2485280378583488,
          -0.17956922552220977,
          1.3792275131301903,
          1.9080517762010822,
          0.5761471867148255,
          1.8169344294712957,
          1.1423438972042983,
          -1.3381860852727034,
          -0.6867858115499139,
          -3.1492321493499555,
          -2.1182656255799004,
          -0.4755949894462181,
          -0.4120856484070518,
          -1.1967871335303404,
          -2.1182656255799004,
          -0.5212053018153169,
          1.5829009386746151,
          1.8169344294712957,
          -0.4755949894462181,
          -0.43141983830022584,
          -0.17956922552220977,
          -2.1182656255799004,
          -0.4755949894462181,
          4.3303218585442,
          3.1681505135068067,
          -0.17956922552220977,
          -1.9761471249196592,
          -2.689882585909634,
          0.23438517624788113,
          -1.5058463119120364,
          -0.17956922552220977,
          -0.17956922552220977,
          -0.17956922552220977,
          -1.243899270510349,
          -2.1182656255799004,
          -0.18299381720309443,
          -2.1182656255799004,
          -0.17956922552220977,
          1.908608870849517,
          1.5082142343712257,
          2.6910730406044903,
          -1.9761471249196592,
          -0.17956922552220977,
          3.1681505135068067,
          0.813210616053001,
          -0.17956922552220977,
          0.24249030079377723,
          4.3303218585442,
          -0.17956922552220977,
          2.6910730406044903,
          -0.17956922552220977,
          1.8169344294712957,
          -0.4755949894462181,
          -2.9736320434143413,
          -2.1182656255799004,
          -0.17956922552220977,
          -2.1182656255799004,
          -0.4755949894462181,
          -2.323700404343155,
          -1.4714087965013283,
          -2.1182656255799004,
          -1.1907875163415917,
          1.5829009386746151,
          1.8169344294712957,
          -0.4755949894462181,
          -0.43141983830022584,
          -2.1182656255799004,
          -0.17956922552220977,
          -2.1182656255799004,
          -0.4755949894462181,
          4.3303218585442,
          3.1681505135068067,
          -0.17956922552220977
         ],
         "z": [
          -0.1246726138526124,
          0.6184039409944626,
          2.0340179157020932,
          -0.7650563154265297,
          -0.7650563154265271,
          -2.2211378788929217,
          -0.18975968705336504,
          0.3803162671254692,
          -0.18975968705336713,
          -0.7650563154265275,
          0.24857692618749355,
          1.7126054007333618,
          -1.4832976218429477,
          -0.7650563154265277,
          -0.5787906802309628,
          -2.4939774516566047,
          -0.7650563154265277,
          1.6635772507346336,
          0.8880200305943653,
          -0.7650563154265279,
          1.712605400733362,
          -0.7650563154265279,
          -0.6933458572039894,
          -0.7650563154265279,
          -0.500271720264993,
          -0.7650563154265279,
          0.7536946949742432,
          -0.20674093106024052,
          0.1037299493141451,
          -0.05871945546596683,
          -0.44351067147452666,
          -2.9951481007840273,
          -2.967252668763194,
          1.5436656198472951,
          -0.18975968705336746,
          -0.22680081058085672,
          3.1511472968951084,
          2.8073046105573747,
          -0.18975968705336746,
          1.802771987512719,
          0.21589676966271384,
          -0.05871945546596683,
          -0.22680081058085672,
          0.4537246946893566,
          -0.7650563154265279,
          -0.18975968705336746,
          -0.22680081058085672,
          0.8880200305943653,
          -0.5787906802309627,
          -0.7650563154265279,
          2.8525286104789442,
          2.5021260137271564,
          0.23414141418714843,
          0.7135630616662869,
          -0.7650563154265279,
          -0.7650563154265279,
          -0.7650563154265279,
          -2.216165854668831,
          -0.18975968705336746,
          1.2788147854841316,
          -0.18975968705336746,
          -0.7650563154265279,
          0.5428464611793523,
          0.24857692618749347,
          1.712605400733362,
          2.8525286104789442,
          -0.7650563154265279,
          -0.5787906802309627,
          -2.493977451656605,
          -0.7650563154265279,
          0.5834545955665635,
          0.8880200305943653,
          -0.7650563154265279,
          1.712605400733362,
          -0.7650563154265279,
          -0.05871945546596683,
          -0.22680081058085672,
          2.416628342430868,
          -0.18975968705336746,
          -0.7650563154265279,
          -0.18975968705336746,
          -0.22680081058085672,
          3.1788813115186456,
          -2.9507049168397956,
          -0.18975968705336746,
          0.7831638930733932,
          0.21589676966271384,
          -0.05871945546596683,
          -0.22680081058085672,
          0.4537246946893566,
          -0.18975968705336746,
          -0.7650563154265279,
          -0.18975968705336746,
          -0.22680081058085672,
          0.8880200305943653,
          -0.5787906802309627,
          -0.7650563154265279
         ]
        }
       ],
       "layout": {
        "height": 480,
        "margin": {
         "b": 0,
         "l": 0,
         "r": 0,
         "t": 0
        },
        "title": {
         "text": "Embeddings con GloVe",
         "x": 0,
         "y": 1
        },
        "width": 720
       }
      },
      "text/html": [
       "<div>\n",
       "        \n",
       "        \n",
       "            <div id=\"5bf8609d-03ca-4b3f-850f-7a8377c2dd05\" class=\"plotly-graph-div\" style=\"height:480px; width:720px;\"></div>\n",
       "            <script type=\"text/javascript\">\n",
       "                require([\"plotly\"], function(Plotly) {\n",
       "                    window.PLOTLYENV=window.PLOTLYENV || {};\n",
       "                    window.PLOTLYENV.BASE_URL='https://plot.ly';\n",
       "                    \n",
       "                if (document.getElementById(\"5bf8609d-03ca-4b3f-850f-7a8377c2dd05\")) {\n",
       "                    Plotly.newPlot(\n",
       "                        '5bf8609d-03ca-4b3f-850f-7a8377c2dd05',\n",
       "                        [{\"hoverinfo\": \"text\", \"hoverlabel\": {\"bgcolor\": [\"rgb(218, 62, 176)\", \"rgb(22, 196, 33)\", \"rgb(90, 253, 115)\", \"rgb(100, 18, 178)\", \"rgb(51, 46, 87)\", \"rgb(106, 253, 222)\", \"rgb(227, 38, 70)\", \"rgb(225, 39, 74)\", \"rgb(227, 38, 70)\", \"rgb(99, 88, 173)\", \"rgb(93, 165, 163)\", \"rgb(179, 61, 24)\", \"rgb(190, 81, 73)\", \"rgb(0, 188, 106)\", \"rgb(198, 6, 20)\", \"rgb(132, 197, 252)\", \"rgb(241, 216, 190)\", \"rgb(252, 224, 156)\", \"rgb(124, 30, 210)\", \"rgb(124, 145, 135)\", \"rgb(179, 61, 24)\", \"rgb(8, 126, 55)\", \"rgb(188, 249, 151)\", \"rgb(11, 193, 165)\", \"rgb(162, 138, 114)\", \"rgb(76, 218, 153)\", \"rgb(49, 120, 120)\", \"rgb(217, 41, 233)\", \"rgb(200, 87, 190)\", \"rgb(78, 55, 13)\", \"rgb(75, 0, 157)\", \"rgb(134, 188, 42)\", \"rgb(39, 14, 227)\", \"rgb(100, 107, 204)\", \"rgb(227, 38, 70)\", \"rgb(249, 149, 103)\", \"rgb(159, 176, 16)\", \"rgb(32, 117, 133)\", \"rgb(227, 38, 70)\", \"rgb(48, 237, 217)\", \"rgb(232, 157, 127)\", \"rgb(78, 55, 13)\", \"rgb(249, 149, 103)\", \"rgb(43, 146, 208)\", \"rgb(116, 50, 193)\", \"rgb(227, 38, 70)\", \"rgb(249, 149, 103)\", \"rgb(124, 30, 210)\", \"rgb(198, 6, 20)\", \"rgb(10, 125, 174)\", \"rgb(203, 61, 134)\", \"rgb(246, 73, 126)\", \"rgb(65, 29, 135)\", \"rgb(97, 125, 204)\", \"rgb(26, 56, 61)\", \"rgb(162, 245, 100)\", \"rgb(134, 29, 212)\", \"rgb(125, 119, 179)\", \"rgb(227, 38, 70)\", \"rgb(92, 220, 178)\", \"rgb(227, 38, 70)\", \"rgb(139, 145, 183)\", \"rgb(3, 156, 230)\", \"rgb(93, 165, 163)\", \"rgb(179, 61, 24)\", \"rgb(203, 61, 134)\", \"rgb(30, 200, 23)\", \"rgb(198, 6, 20)\", \"rgb(132, 197, 252)\", \"rgb(241, 216, 190)\", \"rgb(196, 95, 113)\", \"rgb(124, 30, 210)\", \"rgb(124, 145, 135)\", \"rgb(179, 61, 24)\", \"rgb(8, 126, 55)\", \"rgb(78, 55, 13)\", \"rgb(249, 149, 103)\", \"rgb(189, 18, 43)\", \"rgb(227, 38, 70)\", \"rgb(20, 115, 92)\", \"rgb(227, 38, 70)\", \"rgb(249, 149, 103)\", \"rgb(35, 145, 181)\", \"rgb(135, 39, 171)\", \"rgb(227, 38, 70)\", \"rgb(7, 20, 11)\", \"rgb(232, 157, 127)\", \"rgb(78, 55, 13)\", \"rgb(249, 149, 103)\", \"rgb(43, 146, 208)\", \"rgb(227, 38, 70)\", \"rgb(62, 162, 34)\", \"rgb(227, 38, 70)\", \"rgb(249, 149, 103)\", \"rgb(124, 30, 210)\", \"rgb(198, 6, 20)\", \"rgb(10, 125, 174)\"]}, \"hovertext\": [\" <b style=\\\"font-size: 20px\\\"> Lionel </b> Andr\\u00e9s Messi Cuccittini (Rosario, 24\", \" la que es capit\\u00e1n. Lionel <b style=\\\"font-size: 20px\\\"> Andr\\u00e9s </b> Messi Cuccittini (Rosario, 24 de\", \" que es capit\\u00e1n. Lionel Andr\\u00e9s <b style=\\\"font-size: 20px\\\"> Messi </b> Cuccittini (Rosario, 24 de junio\", \" es capit\\u00e1n. Lionel Andr\\u00e9s Messi <b style=\\\"font-size: 20px\\\"> Cuccittini </b> (Rosario, 24 de junio de\", \" capit\\u00e1n. Lionel Andr\\u00e9s Messi Cuccittini <b style=\\\"font-size: 20px\\\"> (Rosario, </b> 24 de junio de 1987),\", \" Lionel Andr\\u00e9s Messi Cuccittini (Rosario, <b style=\\\"font-size: 20px\\\"> 24 </b> de junio de 1987), conocido\", \" Andr\\u00e9s Messi Cuccittini (Rosario, 24 <b style=\\\"font-size: 20px\\\"> de </b> junio de 1987), conocido como\", \" Messi Cuccittini (Rosario, 24 de <b style=\\\"font-size: 20px\\\"> junio </b> de 1987), conocido como Leo\", \" Cuccittini (Rosario, 24 de junio <b style=\\\"font-size: 20px\\\"> de </b> 1987), conocido como Leo Messi,\", \" (Rosario, 24 de junio de <b style=\\\"font-size: 20px\\\"> 1987), </b> conocido como Leo Messi, es\", \" 24 de junio de 1987), <b style=\\\"font-size: 20px\\\"> conocido </b> como Leo Messi, es un\", \" de junio de 1987), conocido <b style=\\\"font-size: 20px\\\"> como </b> Leo Messi, es un futbolista\", \" junio de 1987), conocido como <b style=\\\"font-size: 20px\\\"> Leo </b> Messi, es un futbolista argentino\", \" de 1987), conocido como Leo <b style=\\\"font-size: 20px\\\"> Messi, </b> es un futbolista argentino que\", \" 1987), conocido como Leo Messi, <b style=\\\"font-size: 20px\\\"> es </b> un futbolista argentino que juega\", \" conocido como Leo Messi, es <b style=\\\"font-size: 20px\\\"> un </b> futbolista argentino que juega como\", \" como Leo Messi, es un <b style=\\\"font-size: 20px\\\"> futbolista </b> argentino que juega como delantero\", \" Leo Messi, es un futbolista <b style=\\\"font-size: 20px\\\"> argentino </b> que juega como delantero o\", \" Messi, es un futbolista argentino <b style=\\\"font-size: 20px\\\"> que </b> juega como delantero o centrocampista.\", \" es un futbolista argentino que <b style=\\\"font-size: 20px\\\"> juega </b> como delantero o centrocampista. Ha\", \" un futbolista argentino que juega <b style=\\\"font-size: 20px\\\"> como </b> delantero o centrocampista. Ha desarrollado\", \" futbolista argentino que juega como <b style=\\\"font-size: 20px\\\"> delantero </b> o centrocampista. Ha desarrollado toda\", \" argentino que juega como delantero <b style=\\\"font-size: 20px\\\"> o </b> centrocampista. Ha desarrollado toda su\", \" que juega como delantero o <b style=\\\"font-size: 20px\\\"> centrocampista. </b> Ha desarrollado toda su carrera\", \" juega como delantero o centrocampista. <b style=\\\"font-size: 20px\\\"> Ha </b> desarrollado toda su carrera en\", \" como delantero o centrocampista. Ha <b style=\\\"font-size: 20px\\\"> desarrollado </b> toda su carrera en el\", \" delantero o centrocampista. Ha desarrollado <b style=\\\"font-size: 20px\\\"> toda </b> su carrera en el F.\", \" o centrocampista. Ha desarrollado toda <b style=\\\"font-size: 20px\\\"> su </b> carrera en el F. C.\", \" centrocampista. Ha desarrollado toda su <b style=\\\"font-size: 20px\\\"> carrera </b> en el F. C. Barcelona\", \" Ha desarrollado toda su carrera <b style=\\\"font-size: 20px\\\"> en </b> el F. C. Barcelona de\", \" desarrollado toda su carrera en <b style=\\\"font-size: 20px\\\"> el </b> F. C. Barcelona de la\", \" toda su carrera en el <b style=\\\"font-size: 20px\\\"> F. </b> C. Barcelona de la Primera\", \" su carrera en el F. <b style=\\\"font-size: 20px\\\"> C. </b> Barcelona de la Primera Divisi\\u00f3n\", \" carrera en el F. C. <b style=\\\"font-size: 20px\\\"> Barcelona </b> de la Primera Divisi\\u00f3n de\", \" en el F. C. Barcelona <b style=\\\"font-size: 20px\\\"> de </b> la Primera Divisi\\u00f3n de Espa\\u00f1a\", \" el F. C. Barcelona de <b style=\\\"font-size: 20px\\\"> la </b> Primera Divisi\\u00f3n de Espa\\u00f1a y\", \" F. C. Barcelona de la <b style=\\\"font-size: 20px\\\"> Primera </b> Divisi\\u00f3n de Espa\\u00f1a y en\", \" C. Barcelona de la Primera <b style=\\\"font-size: 20px\\\"> Divisi\\u00f3n </b> de Espa\\u00f1a y en la\", \" Barcelona de la Primera Divisi\\u00f3n <b style=\\\"font-size: 20px\\\"> de </b> Espa\\u00f1a y en la selecci\\u00f3n\", \" de la Primera Divisi\\u00f3n de <b style=\\\"font-size: 20px\\\"> Espa\\u00f1a </b> y en la selecci\\u00f3n argentina,\", \" la Primera Divisi\\u00f3n de Espa\\u00f1a <b style=\\\"font-size: 20px\\\"> y </b> en la selecci\\u00f3n argentina, de\", \" Primera Divisi\\u00f3n de Espa\\u00f1a y <b style=\\\"font-size: 20px\\\"> en </b> la selecci\\u00f3n argentina, de la\", \" Divisi\\u00f3n de Espa\\u00f1a y en <b style=\\\"font-size: 20px\\\"> la </b> selecci\\u00f3n argentina, de la que\", \" de Espa\\u00f1a y en la <b style=\\\"font-size: 20px\\\"> selecci\\u00f3n </b> argentina, de la que es\", \" Espa\\u00f1a y en la selecci\\u00f3n <b style=\\\"font-size: 20px\\\"> argentina, </b> de la que es capit\\u00e1n.\", \" y en la selecci\\u00f3n argentina, <b style=\\\"font-size: 20px\\\"> de </b> la que es capit\\u00e1n. Cristiano\", \" en la selecci\\u00f3n argentina, de <b style=\\\"font-size: 20px\\\"> la </b> que es capit\\u00e1n. Cristiano Ronaldo\", \" la selecci\\u00f3n argentina, de la <b style=\\\"font-size: 20px\\\"> que </b> es capit\\u00e1n. Cristiano Ronaldo dos\", \" selecci\\u00f3n argentina, de la que <b style=\\\"font-size: 20px\\\"> es </b> capit\\u00e1n. Cristiano Ronaldo dos Santos\", \" argentina, de la que es <b style=\\\"font-size: 20px\\\"> capit\\u00e1n. </b> Cristiano Ronaldo dos Santos Aveiro,\", \" de la que es capit\\u00e1n. <b style=\\\"font-size: 20px\\\"> Cristiano </b> Ronaldo dos Santos Aveiro, (Funchal,\", \" la que es capit\\u00e1n. Cristiano <b style=\\\"font-size: 20px\\\"> Ronaldo </b> dos Santos Aveiro, (Funchal, Madeira,\", \" que es capit\\u00e1n. Cristiano Ronaldo <b style=\\\"font-size: 20px\\\"> dos </b> Santos Aveiro, (Funchal, Madeira, 5\", \" es capit\\u00e1n. Cristiano Ronaldo dos <b style=\\\"font-size: 20px\\\"> Santos </b> Aveiro, (Funchal, Madeira, 5 de\", \" capit\\u00e1n. Cristiano Ronaldo dos Santos <b style=\\\"font-size: 20px\\\"> Aveiro, </b> (Funchal, Madeira, 5 de febrero\", \" Cristiano Ronaldo dos Santos Aveiro, <b style=\\\"font-size: 20px\\\"> (Funchal, </b> Madeira, 5 de febrero de\", \" Ronaldo dos Santos Aveiro, (Funchal, <b style=\\\"font-size: 20px\\\"> Madeira, </b> 5 de febrero de 1985),\", \" dos Santos Aveiro, (Funchal, Madeira, <b style=\\\"font-size: 20px\\\"> 5 </b> de febrero de 1985), m\\u00e1s\", \" Santos Aveiro, (Funchal, Madeira, 5 <b style=\\\"font-size: 20px\\\"> de </b> febrero de 1985), m\\u00e1s conocido\", \" Aveiro, (Funchal, Madeira, 5 de <b style=\\\"font-size: 20px\\\"> febrero </b> de 1985), m\\u00e1s conocido como\", \" (Funchal, Madeira, 5 de febrero <b style=\\\"font-size: 20px\\\"> de </b> 1985), m\\u00e1s conocido como Cristiano\", \" Madeira, 5 de febrero de <b style=\\\"font-size: 20px\\\"> 1985), </b> m\\u00e1s conocido como Cristiano Ronaldo,\", \" 5 de febrero de 1985), <b style=\\\"font-size: 20px\\\"> m\\u00e1s </b> conocido como Cristiano Ronaldo, es\", \" de febrero de 1985), m\\u00e1s <b style=\\\"font-size: 20px\\\"> conocido </b> como Cristiano Ronaldo, es un\", \" febrero de 1985), m\\u00e1s conocido <b style=\\\"font-size: 20px\\\"> como </b> Cristiano Ronaldo, es un futbolista\", \" de 1985), m\\u00e1s conocido como <b style=\\\"font-size: 20px\\\"> Cristiano </b> Ronaldo, es un futbolista portugu\\u00e9s\", \" 1985), m\\u00e1s conocido como Cristiano <b style=\\\"font-size: 20px\\\"> Ronaldo, </b> es un futbolista portugu\\u00e9s que\", \" m\\u00e1s conocido como Cristiano Ronaldo, <b style=\\\"font-size: 20px\\\"> es </b> un futbolista portugu\\u00e9s que juega\", \" conocido como Cristiano Ronaldo, es <b style=\\\"font-size: 20px\\\"> un </b> futbolista portugu\\u00e9s que juega como\", \" como Cristiano Ronaldo, es un <b style=\\\"font-size: 20px\\\"> futbolista </b> portugu\\u00e9s que juega como delantero\", \" Cristiano Ronaldo, es un futbolista <b style=\\\"font-size: 20px\\\"> portugu\\u00e9s </b> que juega como delantero en\", \" Ronaldo, es un futbolista portugu\\u00e9s <b style=\\\"font-size: 20px\\\"> que </b> juega como delantero en la\", \" es un futbolista portugu\\u00e9s que <b style=\\\"font-size: 20px\\\"> juega </b> como delantero en la Juventus\", \" un futbolista portugu\\u00e9s que juega <b style=\\\"font-size: 20px\\\"> como </b> delantero en la Juventus de\", \" futbolista portugu\\u00e9s que juega como <b style=\\\"font-size: 20px\\\"> delantero </b> en la Juventus de Tur\\u00edn\", \" portugu\\u00e9s que juega como delantero <b style=\\\"font-size: 20px\\\"> en </b> la Juventus de Tur\\u00edn de\", \" que juega como delantero en <b style=\\\"font-size: 20px\\\"> la </b> Juventus de Tur\\u00edn de la\", \" juega como delantero en la <b style=\\\"font-size: 20px\\\"> Juventus </b> de Tur\\u00edn de la Serie\", \" como delantero en la Juventus <b style=\\\"font-size: 20px\\\"> de </b> Tur\\u00edn de la Serie A\", \" delantero en la Juventus de <b style=\\\"font-size: 20px\\\"> Tur\\u00edn </b> de la Serie A de\", \" en la Juventus de Tur\\u00edn <b style=\\\"font-size: 20px\\\"> de </b> la Serie A de Italia\", \" la Juventus de Tur\\u00edn de <b style=\\\"font-size: 20px\\\"> la </b> Serie A de Italia y\", \" Juventus de Tur\\u00edn de la <b style=\\\"font-size: 20px\\\"> Serie </b> A de Italia y en\", \" de Tur\\u00edn de la Serie <b style=\\\"font-size: 20px\\\"> A </b> de Italia y en la\", \" Tur\\u00edn de la Serie A <b style=\\\"font-size: 20px\\\"> de </b> Italia y en la selecci\\u00f3n\", \" de la Serie A de <b style=\\\"font-size: 20px\\\"> Italia </b> y en la selecci\\u00f3n de\", \" la Serie A de Italia <b style=\\\"font-size: 20px\\\"> y </b> en la selecci\\u00f3n de Portugal,\", \" Serie A de Italia y <b style=\\\"font-size: 20px\\\"> en </b> la selecci\\u00f3n de Portugal, de\", \" A de Italia y en <b style=\\\"font-size: 20px\\\"> la </b> selecci\\u00f3n de Portugal, de la\", \" de Italia y en la <b style=\\\"font-size: 20px\\\"> selecci\\u00f3n </b> de Portugal, de la que\", \" Italia y en la selecci\\u00f3n <b style=\\\"font-size: 20px\\\"> de </b> Portugal, de la que es\", \" y en la selecci\\u00f3n de <b style=\\\"font-size: 20px\\\"> Portugal, </b> de la que es capit\\u00e1n.\", \" en la selecci\\u00f3n de Portugal, <b style=\\\"font-size: 20px\\\"> de </b>\", \" la selecci\\u00f3n de Portugal, de <b style=\\\"font-size: 20px\\\"> la </b>\", \" selecci\\u00f3n de Portugal, de la <b style=\\\"font-size: 20px\\\"> que </b>\", \" de Portugal, de la que <b style=\\\"font-size: 20px\\\"> es </b>\", \" Portugal, de la que es <b style=\\\"font-size: 20px\\\"> capit\\u00e1n. </b>\"], \"marker\": {\"color\": [\"rgb(218, 62, 176)\", \"rgb(22, 196, 33)\", \"rgb(90, 253, 115)\", \"rgb(100, 18, 178)\", \"rgb(51, 46, 87)\", \"rgb(106, 253, 222)\", \"rgb(227, 38, 70)\", \"rgb(225, 39, 74)\", \"rgb(227, 38, 70)\", \"rgb(99, 88, 173)\", \"rgb(93, 165, 163)\", \"rgb(179, 61, 24)\", \"rgb(190, 81, 73)\", \"rgb(0, 188, 106)\", \"rgb(198, 6, 20)\", \"rgb(132, 197, 252)\", \"rgb(241, 216, 190)\", \"rgb(252, 224, 156)\", \"rgb(124, 30, 210)\", \"rgb(124, 145, 135)\", \"rgb(179, 61, 24)\", \"rgb(8, 126, 55)\", \"rgb(188, 249, 151)\", \"rgb(11, 193, 165)\", \"rgb(162, 138, 114)\", \"rgb(76, 218, 153)\", \"rgb(49, 120, 120)\", \"rgb(217, 41, 233)\", \"rgb(200, 87, 190)\", \"rgb(78, 55, 13)\", \"rgb(75, 0, 157)\", \"rgb(134, 188, 42)\", \"rgb(39, 14, 227)\", \"rgb(100, 107, 204)\", \"rgb(227, 38, 70)\", \"rgb(249, 149, 103)\", \"rgb(159, 176, 16)\", \"rgb(32, 117, 133)\", \"rgb(227, 38, 70)\", \"rgb(48, 237, 217)\", \"rgb(232, 157, 127)\", \"rgb(78, 55, 13)\", \"rgb(249, 149, 103)\", \"rgb(43, 146, 208)\", \"rgb(116, 50, 193)\", \"rgb(227, 38, 70)\", \"rgb(249, 149, 103)\", \"rgb(124, 30, 210)\", \"rgb(198, 6, 20)\", \"rgb(10, 125, 174)\", \"rgb(203, 61, 134)\", \"rgb(246, 73, 126)\", \"rgb(65, 29, 135)\", \"rgb(97, 125, 204)\", \"rgb(26, 56, 61)\", \"rgb(162, 245, 100)\", \"rgb(134, 29, 212)\", \"rgb(125, 119, 179)\", \"rgb(227, 38, 70)\", \"rgb(92, 220, 178)\", \"rgb(227, 38, 70)\", \"rgb(139, 145, 183)\", \"rgb(3, 156, 230)\", \"rgb(93, 165, 163)\", \"rgb(179, 61, 24)\", \"rgb(203, 61, 134)\", \"rgb(30, 200, 23)\", \"rgb(198, 6, 20)\", \"rgb(132, 197, 252)\", \"rgb(241, 216, 190)\", \"rgb(196, 95, 113)\", \"rgb(124, 30, 210)\", \"rgb(124, 145, 135)\", \"rgb(179, 61, 24)\", \"rgb(8, 126, 55)\", \"rgb(78, 55, 13)\", \"rgb(249, 149, 103)\", \"rgb(189, 18, 43)\", \"rgb(227, 38, 70)\", \"rgb(20, 115, 92)\", \"rgb(227, 38, 70)\", \"rgb(249, 149, 103)\", \"rgb(35, 145, 181)\", \"rgb(135, 39, 171)\", \"rgb(227, 38, 70)\", \"rgb(7, 20, 11)\", \"rgb(232, 157, 127)\", \"rgb(78, 55, 13)\", \"rgb(249, 149, 103)\", \"rgb(43, 146, 208)\", \"rgb(227, 38, 70)\", \"rgb(62, 162, 34)\", \"rgb(227, 38, 70)\", \"rgb(249, 149, 103)\", \"rgb(124, 30, 210)\", \"rgb(198, 6, 20)\", \"rgb(10, 125, 174)\"], \"opacity\": 0.8, \"size\": 3}, \"mode\": \"markers\", \"type\": \"scatter3d\", \"uid\": \"75df7d4b-4182-4e6f-87aa-ee4dcff61835\", \"x\": [-1.858246320715074, -1.0665832384344847, -2.406756069106714, -2.883088597458264, -2.8830885974582645, -1.190212118719102, 4.56120934707095, -1.3538881356702133, 4.561209347070949, -2.8830885974582645, -1.5531594600551544, 0.4883037285316735, -1.5979000625673156, -2.883088597458264, 0.8741240127803286, 0.6857887309083096, -2.883088597458264, -1.1117861576260186, 1.743378054551323, -2.8830885974582645, 0.48830372853167364, -2.8830885974582645, 0.3537197530369864, -2.8830885974582645, -0.10472492058589486, -2.8830885974582645, -0.9497396597589788, 0.6323034685902171, -1.043859909357175, 1.9353695494506244, 1.968863662574474, -1.3967556603236213, -0.8261613202881002, -0.7989203565801142, 4.561209347070951, 3.571733395522436, -0.26453488705403033, -0.8581235357978788, 4.561209347070951, -0.35444395882070523, 1.999231343707466, 1.9353695494506244, 3.571733395522436, -2.2224589706316986, -2.8830885974582645, 4.561209347070951, 3.571733395522436, 1.743378054551323, 0.8741240127803286, -2.8830885974582645, -2.823787443492816, -2.1876496928464944, -0.11448070485155527, -0.48517659448058115, -2.8830885974582645, -2.8830885974582645, -2.8830885974582645, -1.0589934029081267, 4.561209347070951, -0.8058100974837463, 4.561209347070951, -2.8830885974582645, -0.838051627247561, -1.5531594600551544, 0.48830372853167364, -2.823787443492816, -2.8830885974582645, 0.8741240127803286, 0.6857887309083095, -2.8830885974582645, -3.2551881722291305, 1.743378054551323, -2.8830885974582645, 0.48830372853167364, -2.8830885974582645, 1.9353695494506244, 3.571733395522436, -1.9541324860844416, 4.561209347070951, -2.8830885974582645, 4.561209347070951, 3.571733395522436, -1.5511569515741312, -0.8937070106533903, 4.561209347070951, -1.2725304039917307, 1.999231343707466, 1.9353695494506244, 3.571733395522436, -2.2224589706316986, 4.561209347070951, -2.8830885974582645, 4.561209347070951, 3.571733395522436, 1.743378054551323, 0.8741240127803286, -2.8830885974582645], \"y\": [-1.8599807305321725, -0.8801102835098014, -2.512794903819599, -0.17956922552220694, -0.17956922552220841, -1.3588756069765608, -2.1182656255799004, 0.2878475612097507, -2.118265625579901, -0.1795692255222097, 1.5082142343712257, 2.691073040604492, -1.7732905839233308, -0.1795692255222097, 3.1681505135068053, 0.8132106160530007, -0.17956922552220972, 0.23802551614976145, 4.3303218585442, -0.17956922552220977, 2.6910730406044903, -0.17956922552220977, 0.7852675227687393, -0.17956922552220977, 2.2485280378583488, -0.17956922552220977, 1.3792275131301903, 1.9080517762010822, 0.5761471867148255, 1.8169344294712957, 1.1423438972042983, -1.3381860852727034, -0.6867858115499139, -3.1492321493499555, -2.1182656255799004, -0.4755949894462181, -0.4120856484070518, -1.1967871335303404, -2.1182656255799004, -0.5212053018153169, 1.5829009386746151, 1.8169344294712957, -0.4755949894462181, -0.43141983830022584, -0.17956922552220977, -2.1182656255799004, -0.4755949894462181, 4.3303218585442, 3.1681505135068067, -0.17956922552220977, -1.9761471249196592, -2.689882585909634, 0.23438517624788113, -1.5058463119120364, -0.17956922552220977, -0.17956922552220977, -0.17956922552220977, -1.243899270510349, -2.1182656255799004, -0.18299381720309443, -2.1182656255799004, -0.17956922552220977, 1.908608870849517, 1.5082142343712257, 2.6910730406044903, -1.9761471249196592, -0.17956922552220977, 3.1681505135068067, 0.813210616053001, -0.17956922552220977, 0.24249030079377723, 4.3303218585442, -0.17956922552220977, 2.6910730406044903, -0.17956922552220977, 1.8169344294712957, -0.4755949894462181, -2.9736320434143413, -2.1182656255799004, -0.17956922552220977, -2.1182656255799004, -0.4755949894462181, -2.323700404343155, -1.4714087965013283, -2.1182656255799004, -1.1907875163415917, 1.5829009386746151, 1.8169344294712957, -0.4755949894462181, -0.43141983830022584, -2.1182656255799004, -0.17956922552220977, -2.1182656255799004, -0.4755949894462181, 4.3303218585442, 3.1681505135068067, -0.17956922552220977], \"z\": [-0.1246726138526124, 0.6184039409944626, 2.0340179157020932, -0.7650563154265297, -0.7650563154265271, -2.2211378788929217, -0.18975968705336504, 0.3803162671254692, -0.18975968705336713, -0.7650563154265275, 0.24857692618749355, 1.7126054007333618, -1.4832976218429477, -0.7650563154265277, -0.5787906802309628, -2.4939774516566047, -0.7650563154265277, 1.6635772507346336, 0.8880200305943653, -0.7650563154265279, 1.712605400733362, -0.7650563154265279, -0.6933458572039894, -0.7650563154265279, -0.500271720264993, -0.7650563154265279, 0.7536946949742432, -0.20674093106024052, 0.1037299493141451, -0.05871945546596683, -0.44351067147452666, -2.9951481007840273, -2.967252668763194, 1.5436656198472951, -0.18975968705336746, -0.22680081058085672, 3.1511472968951084, 2.8073046105573747, -0.18975968705336746, 1.802771987512719, 0.21589676966271384, -0.05871945546596683, -0.22680081058085672, 0.4537246946893566, -0.7650563154265279, -0.18975968705336746, -0.22680081058085672, 0.8880200305943653, -0.5787906802309627, -0.7650563154265279, 2.8525286104789442, 2.5021260137271564, 0.23414141418714843, 0.7135630616662869, -0.7650563154265279, -0.7650563154265279, -0.7650563154265279, -2.216165854668831, -0.18975968705336746, 1.2788147854841316, -0.18975968705336746, -0.7650563154265279, 0.5428464611793523, 0.24857692618749347, 1.712605400733362, 2.8525286104789442, -0.7650563154265279, -0.5787906802309627, -2.493977451656605, -0.7650563154265279, 0.5834545955665635, 0.8880200305943653, -0.7650563154265279, 1.712605400733362, -0.7650563154265279, -0.05871945546596683, -0.22680081058085672, 2.416628342430868, -0.18975968705336746, -0.7650563154265279, -0.18975968705336746, -0.22680081058085672, 3.1788813115186456, -2.9507049168397956, -0.18975968705336746, 0.7831638930733932, 0.21589676966271384, -0.05871945546596683, -0.22680081058085672, 0.4537246946893566, -0.18975968705336746, -0.7650563154265279, -0.18975968705336746, -0.22680081058085672, 0.8880200305943653, -0.5787906802309627, -0.7650563154265279]}],\n",
       "                        {\"height\": 480, \"margin\": {\"b\": 0, \"l\": 0, \"r\": 0, \"t\": 0}, \"title\": {\"text\": \"Embeddings con GloVe\", \"x\": 0, \"y\": 1}, \"width\": 720},\n",
       "                        {\"showLink\": false, \"linkText\": \"Export to plot.ly\", \"plotlyServerURL\": \"https://plot.ly\", \"responsive\": true}\n",
       "                    ).then(function(){\n",
       "                            \n",
       "var gd = document.getElementById('5bf8609d-03ca-4b3f-850f-7a8377c2dd05');\n",
       "var x = new MutationObserver(function (mutations, observer) {{\n",
       "        var display = window.getComputedStyle(gd).display;\n",
       "        if (!display || display === 'none') {{\n",
       "            console.log([gd, 'removed!']);\n",
       "            Plotly.purge(gd);\n",
       "            observer.disconnect();\n",
       "        }}\n",
       "}});\n",
       "\n",
       "// Listen for the removal of the full notebook cells\n",
       "var notebookContainer = gd.closest('#notebook-container');\n",
       "if (notebookContainer) {{\n",
       "    x.observe(notebookContainer, {childList: true});\n",
       "}}\n",
       "\n",
       "// Listen for the clearing of the current output cell\n",
       "var outputEl = gd.closest('.output');\n",
       "if (outputEl) {{\n",
       "    x.observe(outputEl, {childList: true});\n",
       "}}\n",
       "\n",
       "                        })\n",
       "                };\n",
       "                });\n",
       "            </script>\n",
       "        </div>"
      ]
     },
     "metadata": {},
     "output_type": "display_data"
    }
   ],
   "source": [
    "iplot(fig)"
   ]
  },
  {
   "cell_type": "markdown",
   "metadata": {
    "slideshow": {
     "slide_type": "slide"
    }
   },
   "source": [
    "# Análisis Exploratorio"
   ]
  },
  {
   "cell_type": "markdown",
   "metadata": {
    "slideshow": {
     "slide_type": "subslide"
    }
   },
   "source": [
    "# WIKINER"
   ]
  },
  {
   "cell_type": "markdown",
   "metadata": {
    "slideshow": {
     "slide_type": "-"
    }
   },
   "source": [
    "![wikiner](img/wordcloud_wikiner.png)"
   ]
  },
  {
   "cell_type": "markdown",
   "metadata": {
    "slideshow": {
     "slide_type": "subslide"
    }
   },
   "source": [
    "# MUC3 y MUC4"
   ]
  },
  {
   "cell_type": "markdown",
   "metadata": {
    "slideshow": {
     "slide_type": "subslide"
    }
   },
   "source": [
    "![wc_muc](img/muc34/wordcloud.png)"
   ]
  },
  {
   "cell_type": "markdown",
   "metadata": {
    "slideshow": {
     "slide_type": "subslide"
    }
   },
   "source": [
    "# Fechas de las noticias"
   ]
  },
  {
   "cell_type": "markdown",
   "metadata": {
    "slideshow": {
     "slide_type": "-"
    }
   },
   "source": [
    "![wc_muc](img/muc34/fechas.png)"
   ]
  },
  {
   "cell_type": "markdown",
   "metadata": {
    "slideshow": {
     "slide_type": "subslide"
    }
   },
   "source": [
    "# Fechas de las noticias sin outlier"
   ]
  },
  {
   "cell_type": "markdown",
   "metadata": {
    "slideshow": {
     "slide_type": "-"
    }
   },
   "source": [
    "![wc_muc](img/muc34/fechas_final.png)"
   ]
  },
  {
   "cell_type": "markdown",
   "metadata": {
    "slideshow": {
     "slide_type": "subslide"
    }
   },
   "source": [
    "# Descripción de la víctima"
   ]
  },
  {
   "cell_type": "markdown",
   "metadata": {
    "slideshow": {
     "slide_type": "-"
    }
   },
   "source": [
    "![wc_muc](img/muc34/hum_tgt_description.png)"
   ]
  },
  {
   "cell_type": "markdown",
   "metadata": {
    "slideshow": {
     "slide_type": "subslide"
    }
   },
   "source": [
    "# Nombre de la víctima"
   ]
  },
  {
   "cell_type": "markdown",
   "metadata": {
    "slideshow": {
     "slide_type": "-"
    }
   },
   "source": [
    "<img src=\"img/muc34/hum_tgt_name.png\" alt=\"drawing\" width=\"350\"/>"
   ]
  },
  {
   "cell_type": "markdown",
   "metadata": {
    "slideshow": {
     "slide_type": "subslide"
    }
   },
   "source": [
    "# Instrumento utilizado para el atentado"
   ]
  },
  {
   "cell_type": "markdown",
   "metadata": {
    "slideshow": {
     "slide_type": "-"
    }
   },
   "source": [
    "![wc_muc](img/muc34/incident_instrument_id.png)"
   ]
  },
  {
   "cell_type": "markdown",
   "metadata": {
    "slideshow": {
     "slide_type": "subslide"
    }
   },
   "source": [
    "# Autor atentado"
   ]
  },
  {
   "cell_type": "markdown",
   "metadata": {
    "slideshow": {
     "slide_type": "-"
    }
   },
   "source": [
    "![wc_muc](img/muc34/perp_individual_id.png)"
   ]
  },
  {
   "cell_type": "markdown",
   "metadata": {
    "slideshow": {
     "slide_type": "subslide"
    }
   },
   "source": [
    "# Organización autora del atentado"
   ]
  },
  {
   "cell_type": "markdown",
   "metadata": {
    "slideshow": {
     "slide_type": "-"
    }
   },
   "source": [
    "<img src=\"img/muc34/perp_organization_id.png\" alt=\"drawing\" width=\"300\"/>"
   ]
  },
  {
   "cell_type": "markdown",
   "metadata": {
    "slideshow": {
     "slide_type": "subslide"
    }
   },
   "source": [
    "# Elemento físico dañado/destruido"
   ]
  },
  {
   "cell_type": "markdown",
   "metadata": {
    "slideshow": {
     "slide_type": "-"
    }
   },
   "source": [
    "![wc_muc](img/muc34/phys_tgt_id.png)"
   ]
  },
  {
   "cell_type": "markdown",
   "metadata": {
    "slideshow": {
     "slide_type": "subslide"
    }
   },
   "source": [
    "# Lugares de las noticias"
   ]
  },
  {
   "cell_type": "markdown",
   "metadata": {
    "slideshow": {
     "slide_type": "-"
    }
   },
   "source": [
    "<iframe src=\"https://davidbetancur8.github.io/data_science_tfm/exploration/mapa.html\" width=\"800\" height=\"300\"></iframe> "
   ]
  },
  {
   "cell_type": "markdown",
   "metadata": {
    "slideshow": {
     "slide_type": "-"
    }
   },
   "source": [
    "<a href=\"https://davidbetancur8.github.io/data_science_tfm/exploration/mapa.html\">Mapa</a>"
   ]
  },
  {
   "cell_type": "markdown",
   "metadata": {
    "slideshow": {
     "slide_type": "slide"
    }
   },
   "source": [
    "# Metodología"
   ]
  },
  {
   "cell_type": "markdown",
   "metadata": {
    "slideshow": {
     "slide_type": "subslide"
    }
   },
   "source": [
    "# Preprocesamiento"
   ]
  },
  {
   "cell_type": "markdown",
   "metadata": {
    "slideshow": {
     "slide_type": "subslide"
    }
   },
   "source": [
    "# WNUT y WIKINER"
   ]
  },
  {
   "cell_type": "markdown",
   "metadata": {
    "slideshow": {
     "slide_type": "-"
    }
   },
   "source": [
    "\n",
    "* NLPTaskDataFetcher.load_corpus(NLPTask.WNUT_17)\n",
    "* from flair.datasets import WIKINER_ENGLISH\n",
    " \n",
    "<img src=\"img/smiley.jpg\" alt=\"drawing\" width=\"200\"/>"
   ]
  },
  {
   "cell_type": "markdown",
   "metadata": {
    "slideshow": {
     "slide_type": "subslide"
    }
   },
   "source": [
    "# MUC3 y MUC4"
   ]
  },
  {
   "cell_type": "markdown",
   "metadata": {
    "slideshow": {
     "slide_type": "-"
    }
   },
   "source": [
    "\n",
    "<img src=\"img/muc34/text_etl.png\" alt=\"Smiley face\" border=\"5\"> \n",
    "<img src=\"img/muc34/keys_etl.png\" alt=\"Smiley face\" border=\"5\"> \n",
    "\n"
   ]
  },
  {
   "cell_type": "markdown",
   "metadata": {
    "slideshow": {
     "slide_type": "subslide"
    }
   },
   "source": [
    "<img src=\"img/muc34/biluo_muc.png\" alt=\"Smiley face\" border=\"5\"> "
   ]
  },
  {
   "cell_type": "markdown",
   "metadata": {
    "slideshow": {
     "slide_type": "subslide"
    }
   },
   "source": [
    "<img src=\"img/pandas.png\" alt=\"Smiley face\" border=\"5\"> \n",
    "<img src=\"img/spacy.png\" alt=\"Smiley face\" width=500> "
   ]
  },
  {
   "cell_type": "markdown",
   "metadata": {
    "slideshow": {
     "slide_type": "subslide"
    }
   },
   "source": [
    "# Embeddings y NER"
   ]
  },
  {
   "cell_type": "markdown",
   "metadata": {
    "slideshow": {
     "slide_type": "-"
    }
   },
   "source": [
    "![flair](img/metodologia/flair_logo.png)\n",
    "![pytorch](img/metodologia/Pytorch_logo.png)"
   ]
  },
  {
   "cell_type": "markdown",
   "metadata": {
    "slideshow": {
     "slide_type": "subslide"
    }
   },
   "source": [
    "# NER para MUC"
   ]
  },
  {
   "cell_type": "markdown",
   "metadata": {
    "slideshow": {
     "slide_type": "subslide"
    }
   },
   "source": [
    "\n",
    "<img src=\"img/metodologia/metod_muc.png\" alt=\"drawing\" width=\"1000\"/>"
   ]
  },
  {
   "cell_type": "markdown",
   "metadata": {
    "slideshow": {
     "slide_type": "slide"
    }
   },
   "source": [
    "# Resultados"
   ]
  },
  {
   "cell_type": "markdown",
   "metadata": {
    "slideshow": {
     "slide_type": "subslide"
    }
   },
   "source": [
    "# GloVe-WIKINER"
   ]
  },
  {
   "cell_type": "markdown",
   "metadata": {
    "slideshow": {
     "slide_type": "-"
    }
   },
   "source": [
    "![bert_wn](img/glove_wn.png)"
   ]
  },
  {
   "cell_type": "markdown",
   "metadata": {
    "slideshow": {
     "slide_type": "subslide"
    }
   },
   "source": [
    "# BERT-WIKINER"
   ]
  },
  {
   "cell_type": "markdown",
   "metadata": {
    "slideshow": {
     "slide_type": "-"
    }
   },
   "source": [
    "![bert_wn](img/bert_wn.png)"
   ]
  },
  {
   "cell_type": "markdown",
   "metadata": {
    "slideshow": {
     "slide_type": "subslide"
    }
   },
   "source": [
    "# MUC3 and MUC4"
   ]
  },
  {
   "cell_type": "markdown",
   "metadata": {
    "slideshow": {
     "slide_type": "subslide"
    }
   },
   "source": [
    "## gamma=10, alpha=5\n",
    "<img src=\"img/muc34/gamma10_alpha5_100epoc.png\" alt=\"cm\" width=700 />"
   ]
  },
  {
   "cell_type": "markdown",
   "metadata": {
    "slideshow": {
     "slide_type": "subslide"
    }
   },
   "source": [
    "## gamma=20, alpha=2\n",
    "<img src=\"img/muc34/gamma20_alpha2_100epoc.png\" alt=\"cm\" width=700 />"
   ]
  },
  {
   "cell_type": "markdown",
   "metadata": {
    "slideshow": {
     "slide_type": "subslide"
    }
   },
   "source": [
    "## gamma=20, alpha=1\n",
    "<img src=\"img/muc34/gamma20_alpha1_100epoc.png\" alt=\"cm\" width=700 />"
   ]
  },
  {
   "cell_type": "markdown",
   "metadata": {
    "slideshow": {
     "slide_type": "slide"
    }
   },
   "source": [
    "# Conclusiones"
   ]
  },
  {
   "cell_type": "markdown",
   "metadata": {
    "slideshow": {
     "slide_type": "-"
    }
   },
   "source": [
    "<ul>\n",
    "  <li>Se logró acercar al estado del arte en distintos datasets de NER utilizando embeddings contextualizados.</li>\n",
    "  <li>BERT.</li>\n",
    "  <li>Flair.</li>\n",
    "</ul> "
   ]
  },
  {
   "cell_type": "markdown",
   "metadata": {
    "slideshow": {
     "slide_type": "slide"
    }
   },
   "source": [
    "# Trabajo futuro"
   ]
  },
  {
   "cell_type": "markdown",
   "metadata": {
    "slideshow": {
     "slide_type": "-"
    }
   },
   "source": [
    "<ul>\n",
    "  <li>Otros datasets.</li> \n",
    "  <li>BERT en otras tareas como de clasificación.</li>\n",
    "  <li>Fine tunning de BERT.</li>\n",
    "  <li>Implementación propia de BERT.</li>\n",
    "  <li>BioBert</li>\n",
    "</ul> "
   ]
  },
  {
   "cell_type": "raw",
   "metadata": {
    "slideshow": {
     "slide_type": "slide"
    }
   },
   "source": [
    "<image>\n",
    "</section>\n",
    "<section data-background=\"#0093C9\" data-state=\"no-title-footer\">\n",
    "  <div class=\"divider_h1\">\n",
    "    <h1>Muchas gracias</h1>\n",
    "  </div>\n",
    "</section>\n",
    "</image>"
   ]
  }
 ],
 "metadata": {
  "celltoolbar": "Slideshow",
  "kernelspec": {
   "display_name": "Python 3",
   "language": "python",
   "name": "python3"
  },
  "language_info": {
   "codemirror_mode": {
    "name": "ipython",
    "version": 3
   },
   "file_extension": ".py",
   "mimetype": "text/x-python",
   "name": "python",
   "nbconvert_exporter": "python",
   "pygments_lexer": "ipython3",
   "version": "3.6.8"
  },
  "widgets": {
   "state": {},
   "version": "1.1.2"
  }
 },
 "nbformat": 4,
 "nbformat_minor": 1
}
